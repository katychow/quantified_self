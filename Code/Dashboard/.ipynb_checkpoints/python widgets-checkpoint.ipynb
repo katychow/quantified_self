{
 "cells": [
  {
   "cell_type": "code",
   "execution_count": 2,
   "metadata": {},
   "outputs": [],
   "source": [
    "# !pip install ipywidgets"
   ]
  },
  {
   "cell_type": "code",
   "execution_count": 4,
   "metadata": {},
   "outputs": [
    {
     "name": "stdout",
     "output_type": "stream",
     "text": [
      "Enabling notebook extension jupyter-js-widgets/extension...\r\n",
      "      - Validating: \u001b[32mOK\u001b[0m\r\n"
     ]
    }
   ],
   "source": [
    "!jupyter nbextension enable --py widgetsnbextension"
   ]
  },
  {
   "cell_type": "code",
   "execution_count": 6,
   "metadata": {},
   "outputs": [],
   "source": [
    "import ipywidgets as widgets\n",
    "from ipywidgets import interact, interact_manual"
   ]
  },
  {
   "cell_type": "code",
   "execution_count": 7,
   "metadata": {},
   "outputs": [],
   "source": [
    "import pandas as pd"
   ]
  },
  {
   "cell_type": "code",
   "execution_count": 8,
   "metadata": {},
   "outputs": [],
   "source": [
    "df = pd.read_csv('/Users/katychow/Projects/quantified_self/Data/data_for_modeling_cleaned_20190204.csv')"
   ]
  },
  {
   "cell_type": "code",
   "execution_count": 9,
   "metadata": {},
   "outputs": [
    {
     "data": {
      "text/html": [
       "<div>\n",
       "<style scoped>\n",
       "    .dataframe tbody tr th:only-of-type {\n",
       "        vertical-align: middle;\n",
       "    }\n",
       "\n",
       "    .dataframe tbody tr th {\n",
       "        vertical-align: top;\n",
       "    }\n",
       "\n",
       "    .dataframe thead th {\n",
       "        text-align: right;\n",
       "    }\n",
       "</style>\n",
       "<table border=\"1\" class=\"dataframe\">\n",
       "  <thead>\n",
       "    <tr style=\"text-align: right;\">\n",
       "      <th></th>\n",
       "      <th>dates</th>\n",
       "      <th>efficiency</th>\n",
       "      <th>asleep_min</th>\n",
       "      <th>awake_min</th>\n",
       "      <th>restless_min</th>\n",
       "      <th>timeInBed</th>\n",
       "      <th>restless_rolling7</th>\n",
       "      <th>awake_rolling7</th>\n",
       "      <th>dayofweek</th>\n",
       "      <th>caffeine_mg</th>\n",
       "      <th>drink_counter</th>\n",
       "    </tr>\n",
       "  </thead>\n",
       "  <tbody>\n",
       "    <tr>\n",
       "      <th>0</th>\n",
       "      <td>2018-10-08</td>\n",
       "      <td>96.0</td>\n",
       "      <td>347.0</td>\n",
       "      <td>2.0</td>\n",
       "      <td>14.0</td>\n",
       "      <td>363.0</td>\n",
       "      <td>0.0</td>\n",
       "      <td>0.0</td>\n",
       "      <td>0</td>\n",
       "      <td>NaN</td>\n",
       "      <td>NaN</td>\n",
       "    </tr>\n",
       "    <tr>\n",
       "      <th>1</th>\n",
       "      <td>2018-10-09</td>\n",
       "      <td>93.0</td>\n",
       "      <td>337.0</td>\n",
       "      <td>4.0</td>\n",
       "      <td>21.0</td>\n",
       "      <td>362.0</td>\n",
       "      <td>0.0</td>\n",
       "      <td>0.0</td>\n",
       "      <td>1</td>\n",
       "      <td>NaN</td>\n",
       "      <td>NaN</td>\n",
       "    </tr>\n",
       "    <tr>\n",
       "      <th>2</th>\n",
       "      <td>2018-10-10</td>\n",
       "      <td>96.0</td>\n",
       "      <td>417.0</td>\n",
       "      <td>2.0</td>\n",
       "      <td>17.0</td>\n",
       "      <td>437.0</td>\n",
       "      <td>0.0</td>\n",
       "      <td>0.0</td>\n",
       "      <td>2</td>\n",
       "      <td>NaN</td>\n",
       "      <td>NaN</td>\n",
       "    </tr>\n",
       "    <tr>\n",
       "      <th>3</th>\n",
       "      <td>2018-10-11</td>\n",
       "      <td>96.0</td>\n",
       "      <td>417.0</td>\n",
       "      <td>2.0</td>\n",
       "      <td>17.0</td>\n",
       "      <td>437.0</td>\n",
       "      <td>0.0</td>\n",
       "      <td>0.0</td>\n",
       "      <td>3</td>\n",
       "      <td>NaN</td>\n",
       "      <td>NaN</td>\n",
       "    </tr>\n",
       "    <tr>\n",
       "      <th>4</th>\n",
       "      <td>2018-10-12</td>\n",
       "      <td>96.0</td>\n",
       "      <td>508.0</td>\n",
       "      <td>0.0</td>\n",
       "      <td>24.0</td>\n",
       "      <td>532.0</td>\n",
       "      <td>0.0</td>\n",
       "      <td>0.0</td>\n",
       "      <td>4</td>\n",
       "      <td>NaN</td>\n",
       "      <td>NaN</td>\n",
       "    </tr>\n",
       "  </tbody>\n",
       "</table>\n",
       "</div>"
      ],
      "text/plain": [
       "        dates  efficiency  asleep_min  awake_min  restless_min  timeInBed  \\\n",
       "0  2018-10-08        96.0       347.0        2.0          14.0      363.0   \n",
       "1  2018-10-09        93.0       337.0        4.0          21.0      362.0   \n",
       "2  2018-10-10        96.0       417.0        2.0          17.0      437.0   \n",
       "3  2018-10-11        96.0       417.0        2.0          17.0      437.0   \n",
       "4  2018-10-12        96.0       508.0        0.0          24.0      532.0   \n",
       "\n",
       "   restless_rolling7  awake_rolling7  dayofweek  caffeine_mg  drink_counter  \n",
       "0                0.0             0.0          0          NaN            NaN  \n",
       "1                0.0             0.0          1          NaN            NaN  \n",
       "2                0.0             0.0          2          NaN            NaN  \n",
       "3                0.0             0.0          3          NaN            NaN  \n",
       "4                0.0             0.0          4          NaN            NaN  "
      ]
     },
     "execution_count": 9,
     "metadata": {},
     "output_type": "execute_result"
    }
   ],
   "source": [
    "df.head()"
   ]
  },
  {
   "cell_type": "code",
   "execution_count": 12,
   "metadata": {},
   "outputs": [
    {
     "data": {
      "text/html": [
       "<div>\n",
       "<style scoped>\n",
       "    .dataframe tbody tr th:only-of-type {\n",
       "        vertical-align: middle;\n",
       "    }\n",
       "\n",
       "    .dataframe tbody tr th {\n",
       "        vertical-align: top;\n",
       "    }\n",
       "\n",
       "    .dataframe thead th {\n",
       "        text-align: right;\n",
       "    }\n",
       "</style>\n",
       "<table border=\"1\" class=\"dataframe\">\n",
       "  <thead>\n",
       "    <tr style=\"text-align: right;\">\n",
       "      <th></th>\n",
       "      <th>dates</th>\n",
       "      <th>efficiency</th>\n",
       "      <th>asleep_min</th>\n",
       "      <th>awake_min</th>\n",
       "      <th>restless_min</th>\n",
       "      <th>timeInBed</th>\n",
       "      <th>restless_rolling7</th>\n",
       "      <th>awake_rolling7</th>\n",
       "      <th>dayofweek</th>\n",
       "      <th>caffeine_mg</th>\n",
       "      <th>drink_counter</th>\n",
       "    </tr>\n",
       "  </thead>\n",
       "  <tbody>\n",
       "    <tr>\n",
       "      <th>4</th>\n",
       "      <td>2018-10-12</td>\n",
       "      <td>96.0</td>\n",
       "      <td>508.0</td>\n",
       "      <td>0.0</td>\n",
       "      <td>24.0</td>\n",
       "      <td>532.0</td>\n",
       "      <td>0.000000</td>\n",
       "      <td>0.000000</td>\n",
       "      <td>4</td>\n",
       "      <td>NaN</td>\n",
       "      <td>NaN</td>\n",
       "    </tr>\n",
       "    <tr>\n",
       "      <th>47</th>\n",
       "      <td>2018-11-22</td>\n",
       "      <td>95.0</td>\n",
       "      <td>559.0</td>\n",
       "      <td>0.0</td>\n",
       "      <td>31.0</td>\n",
       "      <td>590.0</td>\n",
       "      <td>19.857143</td>\n",
       "      <td>2.142857</td>\n",
       "      <td>3</td>\n",
       "      <td>NaN</td>\n",
       "      <td>NaN</td>\n",
       "    </tr>\n",
       "    <tr>\n",
       "      <th>99</th>\n",
       "      <td>2019-01-06</td>\n",
       "      <td>95.0</td>\n",
       "      <td>535.0</td>\n",
       "      <td>5.0</td>\n",
       "      <td>25.0</td>\n",
       "      <td>565.0</td>\n",
       "      <td>13.428571</td>\n",
       "      <td>2.428571</td>\n",
       "      <td>6</td>\n",
       "      <td>NaN</td>\n",
       "      <td>NaN</td>\n",
       "    </tr>\n",
       "    <tr>\n",
       "      <th>103</th>\n",
       "      <td>2019-01-10</td>\n",
       "      <td>94.0</td>\n",
       "      <td>514.0</td>\n",
       "      <td>9.0</td>\n",
       "      <td>54.0</td>\n",
       "      <td>577.0</td>\n",
       "      <td>23.714286</td>\n",
       "      <td>4.000000</td>\n",
       "      <td>3</td>\n",
       "      <td>263.5</td>\n",
       "      <td>2.0</td>\n",
       "    </tr>\n",
       "    <tr>\n",
       "      <th>120</th>\n",
       "      <td>2019-01-27</td>\n",
       "      <td>97.0</td>\n",
       "      <td>677.0</td>\n",
       "      <td>2.0</td>\n",
       "      <td>17.0</td>\n",
       "      <td>696.0</td>\n",
       "      <td>14.285714</td>\n",
       "      <td>1.285714</td>\n",
       "      <td>6</td>\n",
       "      <td>166.0</td>\n",
       "      <td>3.0</td>\n",
       "    </tr>\n",
       "  </tbody>\n",
       "</table>\n",
       "</div>"
      ],
      "text/plain": [
       "          dates  efficiency  asleep_min  awake_min  restless_min  timeInBed  \\\n",
       "4    2018-10-12        96.0       508.0        0.0          24.0      532.0   \n",
       "47   2018-11-22        95.0       559.0        0.0          31.0      590.0   \n",
       "99   2019-01-06        95.0       535.0        5.0          25.0      565.0   \n",
       "103  2019-01-10        94.0       514.0        9.0          54.0      577.0   \n",
       "120  2019-01-27        97.0       677.0        2.0          17.0      696.0   \n",
       "\n",
       "     restless_rolling7  awake_rolling7  dayofweek  caffeine_mg  drink_counter  \n",
       "4             0.000000        0.000000          4          NaN            NaN  \n",
       "47           19.857143        2.142857          3          NaN            NaN  \n",
       "99           13.428571        2.428571          6          NaN            NaN  \n",
       "103          23.714286        4.000000          3        263.5            2.0  \n",
       "120          14.285714        1.285714          6        166.0            3.0  "
      ]
     },
     "execution_count": 12,
     "metadata": {},
     "output_type": "execute_result"
    }
   ],
   "source": [
    "df.loc[df['asleep_min']>500]"
   ]
  },
  {
   "cell_type": "code",
   "execution_count": 19,
   "metadata": {},
   "outputs": [
    {
     "data": {
      "application/vnd.jupyter.widget-view+json": {
       "model_id": "2f41e753fc284c5d9adf0e9c25701c64",
       "version_major": 2,
       "version_minor": 0
      },
      "text/plain": [
       "interactive(children=(Dropdown(description='column', options=('asleep_min', 'restless_min'), value='asleep_min…"
      ]
     },
     "metadata": {},
     "output_type": "display_data"
    }
   ],
   "source": [
    "@interact\n",
    "def show_nights_more_than(column=['asleep_min','restless_min'], x=(0,700,5)):\n",
    "    return df.loc[df[column] > x]"
   ]
  },
  {
   "cell_type": "code",
   "execution_count": null,
   "metadata": {},
   "outputs": [],
   "source": []
  }
 ],
 "metadata": {
  "kernelspec": {
   "display_name": "Python 3",
   "language": "python",
   "name": "python3"
  },
  "language_info": {
   "codemirror_mode": {
    "name": "ipython",
    "version": 3
   },
   "file_extension": ".py",
   "mimetype": "text/x-python",
   "name": "python",
   "nbconvert_exporter": "python",
   "pygments_lexer": "ipython3",
   "version": "3.6.4"
  }
 },
 "nbformat": 4,
 "nbformat_minor": 2
}
