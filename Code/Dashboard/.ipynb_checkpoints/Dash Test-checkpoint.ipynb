{
 "cells": [
  {
   "cell_type": "code",
   "execution_count": 1,
   "metadata": {
    "collapsed": true
   },
   "outputs": [
    {
     "name": "stdout",
     "output_type": "stream",
     "text": [
      "Collecting dash==0.35.1\n",
      "  Downloading https://files.pythonhosted.org/packages/d0/9e/0c2dde6f2c5e245f0e1a697c821b59715febda09df42e5d850b9ee6d7710/dash-0.35.1.tar.gz\n",
      "Requirement already satisfied: Flask>=0.12 in /anaconda3/lib/python3.6/site-packages (from dash==0.35.1) (0.12.2)\n",
      "Collecting flask-compress (from dash==0.35.1)\n",
      "  Downloading https://files.pythonhosted.org/packages/0e/2a/378bd072928f6d92fd8c417d66b00c757dc361c0405a46a0134de6fd323d/Flask-Compress-1.4.0.tar.gz\n",
      "Requirement already satisfied: plotly in /anaconda3/lib/python3.6/site-packages (from dash==0.35.1) (3.3.0)\n",
      "Collecting dash_renderer (from dash==0.35.1)\n",
      "\u001b[?25l  Downloading https://files.pythonhosted.org/packages/94/f2/70083bfdb19fd278d64980d293e0b8b6a0efedc81a0a41c34544a343c045/dash_renderer-0.17.0.tar.gz (936kB)\n",
      "\u001b[K    100% |████████████████████████████████| 942kB 8.3MB/s eta 0:00:01\n",
      "\u001b[?25hRequirement already satisfied: Werkzeug>=0.7 in /anaconda3/lib/python3.6/site-packages (from Flask>=0.12->dash==0.35.1) (0.14.1)\n",
      "Requirement already satisfied: Jinja2>=2.4 in /anaconda3/lib/python3.6/site-packages (from Flask>=0.12->dash==0.35.1) (2.10)\n",
      "Requirement already satisfied: itsdangerous>=0.21 in /anaconda3/lib/python3.6/site-packages (from Flask>=0.12->dash==0.35.1) (0.24)\n",
      "Requirement already satisfied: click>=2.0 in /anaconda3/lib/python3.6/site-packages (from Flask>=0.12->dash==0.35.1) (6.7)\n",
      "Requirement already satisfied: retrying>=1.3.3 in /anaconda3/lib/python3.6/site-packages (from plotly->dash==0.35.1) (1.3.3)\n",
      "Requirement already satisfied: decorator>=4.0.6 in /anaconda3/lib/python3.6/site-packages (from plotly->dash==0.35.1) (4.2.1)\n",
      "Requirement already satisfied: six in /anaconda3/lib/python3.6/site-packages (from plotly->dash==0.35.1) (1.11.0)\n",
      "Requirement already satisfied: pytz in /anaconda3/lib/python3.6/site-packages (from plotly->dash==0.35.1) (2017.3)\n",
      "Requirement already satisfied: requests in /anaconda3/lib/python3.6/site-packages (from plotly->dash==0.35.1) (2.18.4)\n",
      "Requirement already satisfied: nbformat>=4.2 in /anaconda3/lib/python3.6/site-packages (from plotly->dash==0.35.1) (4.4.0)\n",
      "Requirement already satisfied: MarkupSafe>=0.23 in /anaconda3/lib/python3.6/site-packages (from Jinja2>=2.4->Flask>=0.12->dash==0.35.1) (1.0)\n",
      "Requirement already satisfied: chardet<3.1.0,>=3.0.2 in /anaconda3/lib/python3.6/site-packages (from requests->plotly->dash==0.35.1) (3.0.4)\n",
      "Requirement already satisfied: idna<2.7,>=2.5 in /anaconda3/lib/python3.6/site-packages (from requests->plotly->dash==0.35.1) (2.6)\n",
      "Requirement already satisfied: urllib3<1.23,>=1.21.1 in /anaconda3/lib/python3.6/site-packages (from requests->plotly->dash==0.35.1) (1.22)\n",
      "Requirement already satisfied: certifi>=2017.4.17 in /anaconda3/lib/python3.6/site-packages (from requests->plotly->dash==0.35.1) (2018.1.18)\n",
      "Requirement already satisfied: ipython_genutils in /anaconda3/lib/python3.6/site-packages (from nbformat>=4.2->plotly->dash==0.35.1) (0.2.0)\n",
      "Requirement already satisfied: traitlets>=4.1 in /anaconda3/lib/python3.6/site-packages (from nbformat>=4.2->plotly->dash==0.35.1) (4.3.2)\n",
      "Requirement already satisfied: jsonschema!=2.5.0,>=2.4 in /anaconda3/lib/python3.6/site-packages (from nbformat>=4.2->plotly->dash==0.35.1) (2.6.0)\n",
      "Requirement already satisfied: jupyter_core in /anaconda3/lib/python3.6/site-packages (from nbformat>=4.2->plotly->dash==0.35.1) (4.4.0)\n",
      "Building wheels for collected packages: dash, flask-compress, dash-renderer\n",
      "  Running setup.py bdist_wheel for dash ... \u001b[?25ldone\n",
      "\u001b[?25h  Stored in directory: /Users/katychow/Library/Caches/pip/wheels/5a/c8/61/4daf9b3c3b33e8037294f3e694b84b2a6e04cf1d7ab6724fa5\n",
      "  Running setup.py bdist_wheel for flask-compress ... \u001b[?25ldone\n",
      "\u001b[?25h  Stored in directory: /Users/katychow/Library/Caches/pip/wheels/96/32/88/a1f6d9dd3c29570ab3a8acc0d556b3b20abcf3c623c868ce0a\n",
      "  Running setup.py bdist_wheel for dash-renderer ... \u001b[?25ldone\n",
      "\u001b[?25h  Stored in directory: /Users/katychow/Library/Caches/pip/wheels/09/d2/49/0d140766d5ee1ef4ce271d302a5d30cf3d18c5b507e48c77f3\n",
      "Successfully built dash flask-compress dash-renderer\n",
      "Installing collected packages: flask-compress, dash-renderer, dash\n",
      "Successfully installed dash-0.35.1 dash-renderer-0.17.0 flask-compress-1.4.0\n",
      "\u001b[33mYou are using pip version 18.1, however version 19.0.1 is available.\n",
      "You should consider upgrading via the 'pip install --upgrade pip' command.\u001b[0m\n",
      "Collecting dash-html-components==0.13.4\n",
      "\u001b[?25l  Downloading https://files.pythonhosted.org/packages/b0/31/1b796b76ee5e2b2264903ecb44b34663e588efcd0b7d3bbb14849443aa5c/dash_html_components-0.13.4.tar.gz (528kB)\n",
      "\u001b[K    100% |████████████████████████████████| 532kB 7.0MB/s ta 0:00:011\n",
      "\u001b[?25hRequirement already satisfied: dash in /anaconda3/lib/python3.6/site-packages (from dash-html-components==0.13.4) (0.35.1)\n",
      "Requirement already satisfied: flask-compress in /anaconda3/lib/python3.6/site-packages (from dash->dash-html-components==0.13.4) (1.4.0)\n",
      "Requirement already satisfied: plotly in /anaconda3/lib/python3.6/site-packages (from dash->dash-html-components==0.13.4) (3.3.0)\n",
      "Requirement already satisfied: dash-renderer in /anaconda3/lib/python3.6/site-packages (from dash->dash-html-components==0.13.4) (0.17.0)\n",
      "Requirement already satisfied: Flask>=0.12 in /anaconda3/lib/python3.6/site-packages (from dash->dash-html-components==0.13.4) (0.12.2)\n",
      "Requirement already satisfied: six in /anaconda3/lib/python3.6/site-packages (from plotly->dash->dash-html-components==0.13.4) (1.11.0)\n",
      "Requirement already satisfied: requests in /anaconda3/lib/python3.6/site-packages (from plotly->dash->dash-html-components==0.13.4) (2.18.4)\n",
      "Requirement already satisfied: nbformat>=4.2 in /anaconda3/lib/python3.6/site-packages (from plotly->dash->dash-html-components==0.13.4) (4.4.0)\n",
      "Requirement already satisfied: retrying>=1.3.3 in /anaconda3/lib/python3.6/site-packages (from plotly->dash->dash-html-components==0.13.4) (1.3.3)\n",
      "Requirement already satisfied: pytz in /anaconda3/lib/python3.6/site-packages (from plotly->dash->dash-html-components==0.13.4) (2017.3)\n",
      "Requirement already satisfied: decorator>=4.0.6 in /anaconda3/lib/python3.6/site-packages (from plotly->dash->dash-html-components==0.13.4) (4.2.1)\n",
      "Requirement already satisfied: Werkzeug>=0.7 in /anaconda3/lib/python3.6/site-packages (from Flask>=0.12->dash->dash-html-components==0.13.4) (0.14.1)\n",
      "Requirement already satisfied: Jinja2>=2.4 in /anaconda3/lib/python3.6/site-packages (from Flask>=0.12->dash->dash-html-components==0.13.4) (2.10)\n",
      "Requirement already satisfied: itsdangerous>=0.21 in /anaconda3/lib/python3.6/site-packages (from Flask>=0.12->dash->dash-html-components==0.13.4) (0.24)\n",
      "Requirement already satisfied: click>=2.0 in /anaconda3/lib/python3.6/site-packages (from Flask>=0.12->dash->dash-html-components==0.13.4) (6.7)\n",
      "Requirement already satisfied: chardet<3.1.0,>=3.0.2 in /anaconda3/lib/python3.6/site-packages (from requests->plotly->dash->dash-html-components==0.13.4) (3.0.4)\n",
      "Requirement already satisfied: idna<2.7,>=2.5 in /anaconda3/lib/python3.6/site-packages (from requests->plotly->dash->dash-html-components==0.13.4) (2.6)\n",
      "Requirement already satisfied: urllib3<1.23,>=1.21.1 in /anaconda3/lib/python3.6/site-packages (from requests->plotly->dash->dash-html-components==0.13.4) (1.22)\n",
      "Requirement already satisfied: certifi>=2017.4.17 in /anaconda3/lib/python3.6/site-packages (from requests->plotly->dash->dash-html-components==0.13.4) (2018.1.18)\n",
      "Requirement already satisfied: ipython_genutils in /anaconda3/lib/python3.6/site-packages (from nbformat>=4.2->plotly->dash->dash-html-components==0.13.4) (0.2.0)\n",
      "Requirement already satisfied: traitlets>=4.1 in /anaconda3/lib/python3.6/site-packages (from nbformat>=4.2->plotly->dash->dash-html-components==0.13.4) (4.3.2)\n",
      "Requirement already satisfied: jsonschema!=2.5.0,>=2.4 in /anaconda3/lib/python3.6/site-packages (from nbformat>=4.2->plotly->dash->dash-html-components==0.13.4) (2.6.0)\n",
      "Requirement already satisfied: jupyter_core in /anaconda3/lib/python3.6/site-packages (from nbformat>=4.2->plotly->dash->dash-html-components==0.13.4) (4.4.0)\n",
      "Requirement already satisfied: MarkupSafe>=0.23 in /anaconda3/lib/python3.6/site-packages (from Jinja2>=2.4->Flask>=0.12->dash->dash-html-components==0.13.4) (1.0)\n",
      "Building wheels for collected packages: dash-html-components\n"
     ]
    },
    {
     "name": "stdout",
     "output_type": "stream",
     "text": [
      "  Running setup.py bdist_wheel for dash-html-components ... \u001b[?25ldone\n",
      "\u001b[?25h  Stored in directory: /Users/katychow/Library/Caches/pip/wheels/23/32/a4/73402d8718ad5e92e9d47dcfa088be5481961e2b562ea09803\n",
      "Successfully built dash-html-components\n",
      "Installing collected packages: dash-html-components\n",
      "Successfully installed dash-html-components-0.13.4\n",
      "\u001b[33mYou are using pip version 18.1, however version 19.0.1 is available.\n",
      "You should consider upgrading via the 'pip install --upgrade pip' command.\u001b[0m\n",
      "Collecting dash-core-components==0.42.1\n",
      "\u001b[?25l  Downloading https://files.pythonhosted.org/packages/c0/d3/2d7c406fb094698a09f09c051f5e5160dc0887c0cc5b12a553790955025d/dash_core_components-0.42.1.tar.gz (4.1MB)\n",
      "\u001b[K    100% |████████████████████████████████| 4.1MB 5.7MB/s ta 0:00:011\n",
      "\u001b[?25hRequirement already satisfied: dash in /anaconda3/lib/python3.6/site-packages (from dash-core-components==0.42.1) (0.35.1)\n",
      "Requirement already satisfied: Flask>=0.12 in /anaconda3/lib/python3.6/site-packages (from dash->dash-core-components==0.42.1) (0.12.2)\n",
      "Requirement already satisfied: dash-renderer in /anaconda3/lib/python3.6/site-packages (from dash->dash-core-components==0.42.1) (0.17.0)\n",
      "Requirement already satisfied: plotly in /anaconda3/lib/python3.6/site-packages (from dash->dash-core-components==0.42.1) (3.3.0)\n",
      "Requirement already satisfied: flask-compress in /anaconda3/lib/python3.6/site-packages (from dash->dash-core-components==0.42.1) (1.4.0)\n",
      "Requirement already satisfied: Werkzeug>=0.7 in /anaconda3/lib/python3.6/site-packages (from Flask>=0.12->dash->dash-core-components==0.42.1) (0.14.1)\n",
      "Requirement already satisfied: Jinja2>=2.4 in /anaconda3/lib/python3.6/site-packages (from Flask>=0.12->dash->dash-core-components==0.42.1) (2.10)\n",
      "Requirement already satisfied: itsdangerous>=0.21 in /anaconda3/lib/python3.6/site-packages (from Flask>=0.12->dash->dash-core-components==0.42.1) (0.24)\n",
      "Requirement already satisfied: click>=2.0 in /anaconda3/lib/python3.6/site-packages (from Flask>=0.12->dash->dash-core-components==0.42.1) (6.7)\n",
      "Requirement already satisfied: retrying>=1.3.3 in /anaconda3/lib/python3.6/site-packages (from plotly->dash->dash-core-components==0.42.1) (1.3.3)\n",
      "Requirement already satisfied: nbformat>=4.2 in /anaconda3/lib/python3.6/site-packages (from plotly->dash->dash-core-components==0.42.1) (4.4.0)\n",
      "Requirement already satisfied: six in /anaconda3/lib/python3.6/site-packages (from plotly->dash->dash-core-components==0.42.1) (1.11.0)\n",
      "Requirement already satisfied: decorator>=4.0.6 in /anaconda3/lib/python3.6/site-packages (from plotly->dash->dash-core-components==0.42.1) (4.2.1)\n",
      "Requirement already satisfied: requests in /anaconda3/lib/python3.6/site-packages (from plotly->dash->dash-core-components==0.42.1) (2.18.4)\n",
      "Requirement already satisfied: pytz in /anaconda3/lib/python3.6/site-packages (from plotly->dash->dash-core-components==0.42.1) (2017.3)\n",
      "Requirement already satisfied: MarkupSafe>=0.23 in /anaconda3/lib/python3.6/site-packages (from Jinja2>=2.4->Flask>=0.12->dash->dash-core-components==0.42.1) (1.0)\n",
      "Requirement already satisfied: ipython_genutils in /anaconda3/lib/python3.6/site-packages (from nbformat>=4.2->plotly->dash->dash-core-components==0.42.1) (0.2.0)\n",
      "Requirement already satisfied: traitlets>=4.1 in /anaconda3/lib/python3.6/site-packages (from nbformat>=4.2->plotly->dash->dash-core-components==0.42.1) (4.3.2)\n",
      "Requirement already satisfied: jsonschema!=2.5.0,>=2.4 in /anaconda3/lib/python3.6/site-packages (from nbformat>=4.2->plotly->dash->dash-core-components==0.42.1) (2.6.0)\n",
      "Requirement already satisfied: jupyter_core in /anaconda3/lib/python3.6/site-packages (from nbformat>=4.2->plotly->dash->dash-core-components==0.42.1) (4.4.0)\n",
      "Requirement already satisfied: chardet<3.1.0,>=3.0.2 in /anaconda3/lib/python3.6/site-packages (from requests->plotly->dash->dash-core-components==0.42.1) (3.0.4)\n",
      "Requirement already satisfied: idna<2.7,>=2.5 in /anaconda3/lib/python3.6/site-packages (from requests->plotly->dash->dash-core-components==0.42.1) (2.6)\n",
      "Requirement already satisfied: urllib3<1.23,>=1.21.1 in /anaconda3/lib/python3.6/site-packages (from requests->plotly->dash->dash-core-components==0.42.1) (1.22)\n",
      "Requirement already satisfied: certifi>=2017.4.17 in /anaconda3/lib/python3.6/site-packages (from requests->plotly->dash->dash-core-components==0.42.1) (2018.1.18)\n",
      "Building wheels for collected packages: dash-core-components\n",
      "  Running setup.py bdist_wheel for dash-core-components ... \u001b[?25ldone\n",
      "\u001b[?25h  Stored in directory: /Users/katychow/Library/Caches/pip/wheels/4d/0c/74/570bc5933e80be75300dfe1004b6541e0b5c8ef2b955dc7904\n",
      "Successfully built dash-core-components\n",
      "Installing collected packages: dash-core-components\n",
      "Successfully installed dash-core-components-0.42.1\n",
      "\u001b[33mYou are using pip version 18.1, however version 19.0.1 is available.\n",
      "You should consider upgrading via the 'pip install --upgrade pip' command.\u001b[0m\n",
      "Collecting dash-table==3.1.11\n",
      "\u001b[?25l  Downloading https://files.pythonhosted.org/packages/cf/77/121c670185022ca8c605d86fe1e2722b4827fd99b8811896a55ab8dd65ca/dash_table-3.1.11.tar.gz (299kB)\n",
      "\u001b[K    100% |████████████████████████████████| 307kB 6.2MB/s ta 0:00:01\n",
      "\u001b[?25hRequirement already satisfied: dash in /anaconda3/lib/python3.6/site-packages (from dash-table==3.1.11) (0.35.1)\n",
      "Requirement already satisfied: plotly in /anaconda3/lib/python3.6/site-packages (from dash->dash-table==3.1.11) (3.3.0)\n",
      "Requirement already satisfied: Flask>=0.12 in /anaconda3/lib/python3.6/site-packages (from dash->dash-table==3.1.11) (0.12.2)\n",
      "Requirement already satisfied: flask-compress in /anaconda3/lib/python3.6/site-packages (from dash->dash-table==3.1.11) (1.4.0)\n",
      "Requirement already satisfied: dash-renderer in /anaconda3/lib/python3.6/site-packages (from dash->dash-table==3.1.11) (0.17.0)\n",
      "Requirement already satisfied: decorator>=4.0.6 in /anaconda3/lib/python3.6/site-packages (from plotly->dash->dash-table==3.1.11) (4.2.1)\n",
      "Requirement already satisfied: requests in /anaconda3/lib/python3.6/site-packages (from plotly->dash->dash-table==3.1.11) (2.18.4)\n",
      "Requirement already satisfied: six in /anaconda3/lib/python3.6/site-packages (from plotly->dash->dash-table==3.1.11) (1.11.0)\n",
      "Requirement already satisfied: nbformat>=4.2 in /anaconda3/lib/python3.6/site-packages (from plotly->dash->dash-table==3.1.11) (4.4.0)\n",
      "Requirement already satisfied: retrying>=1.3.3 in /anaconda3/lib/python3.6/site-packages (from plotly->dash->dash-table==3.1.11) (1.3.3)\n",
      "Requirement already satisfied: pytz in /anaconda3/lib/python3.6/site-packages (from plotly->dash->dash-table==3.1.11) (2017.3)\n",
      "Requirement already satisfied: Werkzeug>=0.7 in /anaconda3/lib/python3.6/site-packages (from Flask>=0.12->dash->dash-table==3.1.11) (0.14.1)\n",
      "Requirement already satisfied: Jinja2>=2.4 in /anaconda3/lib/python3.6/site-packages (from Flask>=0.12->dash->dash-table==3.1.11) (2.10)\n",
      "Requirement already satisfied: itsdangerous>=0.21 in /anaconda3/lib/python3.6/site-packages (from Flask>=0.12->dash->dash-table==3.1.11) (0.24)\n",
      "Requirement already satisfied: click>=2.0 in /anaconda3/lib/python3.6/site-packages (from Flask>=0.12->dash->dash-table==3.1.11) (6.7)\n",
      "Requirement already satisfied: chardet<3.1.0,>=3.0.2 in /anaconda3/lib/python3.6/site-packages (from requests->plotly->dash->dash-table==3.1.11) (3.0.4)\n",
      "Requirement already satisfied: idna<2.7,>=2.5 in /anaconda3/lib/python3.6/site-packages (from requests->plotly->dash->dash-table==3.1.11) (2.6)\n",
      "Requirement already satisfied: urllib3<1.23,>=1.21.1 in /anaconda3/lib/python3.6/site-packages (from requests->plotly->dash->dash-table==3.1.11) (1.22)\n",
      "Requirement already satisfied: certifi>=2017.4.17 in /anaconda3/lib/python3.6/site-packages (from requests->plotly->dash->dash-table==3.1.11) (2018.1.18)\n",
      "Requirement already satisfied: ipython_genutils in /anaconda3/lib/python3.6/site-packages (from nbformat>=4.2->plotly->dash->dash-table==3.1.11) (0.2.0)\n",
      "Requirement already satisfied: traitlets>=4.1 in /anaconda3/lib/python3.6/site-packages (from nbformat>=4.2->plotly->dash->dash-table==3.1.11) (4.3.2)\n",
      "Requirement already satisfied: jsonschema!=2.5.0,>=2.4 in /anaconda3/lib/python3.6/site-packages (from nbformat>=4.2->plotly->dash->dash-table==3.1.11) (2.6.0)\n",
      "Requirement already satisfied: jupyter_core in /anaconda3/lib/python3.6/site-packages (from nbformat>=4.2->plotly->dash->dash-table==3.1.11) (4.4.0)\n",
      "Requirement already satisfied: MarkupSafe>=0.23 in /anaconda3/lib/python3.6/site-packages (from Jinja2>=2.4->Flask>=0.12->dash->dash-table==3.1.11) (1.0)\n",
      "Building wheels for collected packages: dash-table\n"
     ]
    },
    {
     "name": "stdout",
     "output_type": "stream",
     "text": [
      "  Running setup.py bdist_wheel for dash-table ... \u001b[?25ldone\n",
      "\u001b[?25h  Stored in directory: /Users/katychow/Library/Caches/pip/wheels/5e/aa/b2/f297562c61542573048d6a9ec49c57c37c2a37dc6ee9942ff6\n",
      "Successfully built dash-table\n",
      "Installing collected packages: dash-table\n",
      "Successfully installed dash-table-3.1.11\n",
      "\u001b[33mYou are using pip version 18.1, however version 19.0.1 is available.\n",
      "You should consider upgrading via the 'pip install --upgrade pip' command.\u001b[0m\n"
     ]
    }
   ],
   "source": [
    "# !pip install dash==0.35.1\n",
    "# !pip install dash-html-components==0.13.4\n",
    "# !pip install dash-core-components==0.42.1\n",
    "# !pip install dash-table==3.1.11\n",
    "\n",
    "# !pip install --upgrade pip"
   ]
  },
  {
   "cell_type": "code",
   "execution_count": 4,
   "metadata": {},
   "outputs": [],
   "source": [
    "import dash\n",
    "import dash_core_components as dcc\n",
    "import dash_html_components as html\n"
   ]
  },
  {
   "cell_type": "code",
   "execution_count": 6,
   "metadata": {},
   "outputs": [
    {
     "data": {
      "text/plain": [
       "Dropdown(options=[{'label': 'Test1', 'value': 1}, {'label': 'Test2', 'value': 2}], value=2)"
      ]
     },
     "execution_count": 6,
     "metadata": {},
     "output_type": "execute_result"
    }
   ],
   "source": [
    "dcc.Dropdown(\n",
    "    options = [\n",
    "        {'label': 'Test1','value':1},\n",
    "        {'label': 'Test2', 'value':2}\n",
    "    ],\n",
    "    value = 2\n",
    ")"
   ]
  },
  {
   "cell_type": "code",
   "execution_count": null,
   "metadata": {},
   "outputs": [],
   "source": []
  }
 ],
 "metadata": {
  "kernelspec": {
   "display_name": "Python 3",
   "language": "python",
   "name": "python3"
  },
  "language_info": {
   "codemirror_mode": {
    "name": "ipython",
    "version": 3
   },
   "file_extension": ".py",
   "mimetype": "text/x-python",
   "name": "python",
   "nbconvert_exporter": "python",
   "pygments_lexer": "ipython3",
   "version": "3.6.4"
  }
 },
 "nbformat": 4,
 "nbformat_minor": 2
}
