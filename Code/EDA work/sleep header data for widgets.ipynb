{
 "cells": [
  {
   "cell_type": "code",
   "execution_count": 1,
   "metadata": {},
   "outputs": [],
   "source": [
    "import pandas as pd\n",
    "import numpy as np\n",
    "import matplotlib.pyplot as plt\n",
    "import seaborn as sns\n",
    "\n",
    "%matplotlib inline"
   ]
  },
  {
   "cell_type": "code",
   "execution_count": 2,
   "metadata": {},
   "outputs": [
    {
     "name": "stdout",
     "output_type": "stream",
     "text": [
      "Enabling notebook extension jupyter-js-widgets/extension...\r\n",
      "      - Validating: \u001b[32mOK\u001b[0m\r\n"
     ]
    }
   ],
   "source": [
    "!jupyter nbextension enable --py widgetsnbextension"
   ]
  },
  {
   "cell_type": "code",
   "execution_count": 3,
   "metadata": {},
   "outputs": [
    {
     "data": {
      "text/html": [
       "<script>requirejs.config({paths: { 'plotly': ['https://cdn.plot.ly/plotly-latest.min']},});if(!window.Plotly) {{require(['plotly'],function(plotly) {window.Plotly=plotly;});}}</script>"
      ],
      "text/vnd.plotly.v1+html": [
       "<script>requirejs.config({paths: { 'plotly': ['https://cdn.plot.ly/plotly-latest.min']},});if(!window.Plotly) {{require(['plotly'],function(plotly) {window.Plotly=plotly;});}}</script>"
      ]
     },
     "metadata": {},
     "output_type": "display_data"
    },
    {
     "data": {
      "text/html": [
       "<script>requirejs.config({paths: { 'plotly': ['https://cdn.plot.ly/plotly-latest.min']},});if(!window.Plotly) {{require(['plotly'],function(plotly) {window.Plotly=plotly;});}}</script>"
      ],
      "text/vnd.plotly.v1+html": [
       "<script>requirejs.config({paths: { 'plotly': ['https://cdn.plot.ly/plotly-latest.min']},});if(!window.Plotly) {{require(['plotly'],function(plotly) {window.Plotly=plotly;});}}</script>"
      ]
     },
     "metadata": {},
     "output_type": "display_data"
    }
   ],
   "source": [
    "import ipywidgets as widgets\n",
    "from ipywidgets import interact, interact_manual\n",
    "# Standard plotly imports\n",
    "import plotly.plotly as py\n",
    "import plotly.graph_objs as go\n",
    "from plotly.offline import iplot, init_notebook_mode\n",
    "# Using plotly + cufflinks in offline mode\n",
    "import cufflinks\n",
    "cufflinks.go_offline(connected=True)\n",
    "init_notebook_mode(connected=True)"
   ]
  },
  {
   "cell_type": "code",
   "execution_count": 32,
   "metadata": {},
   "outputs": [],
   "source": [
    "df = pd.read_csv('../../Data/Sleep Data/fitbit_sleep_header_20190128.csv')"
   ]
  },
  {
   "cell_type": "code",
   "execution_count": 5,
   "metadata": {},
   "outputs": [
    {
     "data": {
      "text/html": [
       "<div>\n",
       "<style scoped>\n",
       "    .dataframe tbody tr th:only-of-type {\n",
       "        vertical-align: middle;\n",
       "    }\n",
       "\n",
       "    .dataframe tbody tr th {\n",
       "        vertical-align: top;\n",
       "    }\n",
       "\n",
       "    .dataframe thead th {\n",
       "        text-align: right;\n",
       "    }\n",
       "</style>\n",
       "<table border=\"1\" class=\"dataframe\">\n",
       "  <thead>\n",
       "    <tr style=\"text-align: right;\">\n",
       "      <th></th>\n",
       "      <th>asleep_cnt</th>\n",
       "      <th>asleep_min</th>\n",
       "      <th>awake_cnt</th>\n",
       "      <th>awake_min</th>\n",
       "      <th>dateOfSleep</th>\n",
       "      <th>duration</th>\n",
       "      <th>efficiency</th>\n",
       "      <th>endTime</th>\n",
       "      <th>infoCode</th>\n",
       "      <th>logID</th>\n",
       "      <th>minutesAfterWakeup</th>\n",
       "      <th>minutesAsleep</th>\n",
       "      <th>minutesAwake</th>\n",
       "      <th>minutesToFallAsleep</th>\n",
       "      <th>restless_cnt</th>\n",
       "      <th>restless_min</th>\n",
       "      <th>startTime</th>\n",
       "      <th>timeInBed</th>\n",
       "      <th>type</th>\n",
       "    </tr>\n",
       "  </thead>\n",
       "  <tbody>\n",
       "    <tr>\n",
       "      <th>0</th>\n",
       "      <td>0</td>\n",
       "      <td>380</td>\n",
       "      <td>0</td>\n",
       "      <td>0</td>\n",
       "      <td>2018-09-09</td>\n",
       "      <td>24480000</td>\n",
       "      <td>93</td>\n",
       "      <td>2018-09-09T06:42:00.000</td>\n",
       "      <td>0</td>\n",
       "      <td>19454971019</td>\n",
       "      <td>0</td>\n",
       "      <td>380</td>\n",
       "      <td>28</td>\n",
       "      <td>0</td>\n",
       "      <td>17</td>\n",
       "      <td>28</td>\n",
       "      <td>2018-09-08T23:53:30.000</td>\n",
       "      <td>408</td>\n",
       "      <td>classic</td>\n",
       "    </tr>\n",
       "    <tr>\n",
       "      <th>1</th>\n",
       "      <td>0</td>\n",
       "      <td>416</td>\n",
       "      <td>2</td>\n",
       "      <td>2</td>\n",
       "      <td>2018-09-08</td>\n",
       "      <td>25860000</td>\n",
       "      <td>97</td>\n",
       "      <td>2018-09-08T06:33:30.000</td>\n",
       "      <td>0</td>\n",
       "      <td>19445045219</td>\n",
       "      <td>0</td>\n",
       "      <td>416</td>\n",
       "      <td>15</td>\n",
       "      <td>0</td>\n",
       "      <td>9</td>\n",
       "      <td>13</td>\n",
       "      <td>2018-09-07T23:22:30.000</td>\n",
       "      <td>431</td>\n",
       "      <td>classic</td>\n",
       "    </tr>\n",
       "    <tr>\n",
       "      <th>2</th>\n",
       "      <td>0</td>\n",
       "      <td>352</td>\n",
       "      <td>1</td>\n",
       "      <td>2</td>\n",
       "      <td>2018-11-06</td>\n",
       "      <td>22320000</td>\n",
       "      <td>95</td>\n",
       "      <td>2018-11-06T04:45:30.000</td>\n",
       "      <td>0</td>\n",
       "      <td>20070096843</td>\n",
       "      <td>0</td>\n",
       "      <td>352</td>\n",
       "      <td>20</td>\n",
       "      <td>0</td>\n",
       "      <td>5</td>\n",
       "      <td>18</td>\n",
       "      <td>2018-11-05T22:33:00.000</td>\n",
       "      <td>372</td>\n",
       "      <td>classic</td>\n",
       "    </tr>\n",
       "    <tr>\n",
       "      <th>3</th>\n",
       "      <td>0</td>\n",
       "      <td>409</td>\n",
       "      <td>1</td>\n",
       "      <td>6</td>\n",
       "      <td>2018-11-04</td>\n",
       "      <td>26400000</td>\n",
       "      <td>93</td>\n",
       "      <td>2018-11-04T07:04:00.000</td>\n",
       "      <td>0</td>\n",
       "      <td>20050246210</td>\n",
       "      <td>0</td>\n",
       "      <td>409</td>\n",
       "      <td>31</td>\n",
       "      <td>0</td>\n",
       "      <td>11</td>\n",
       "      <td>25</td>\n",
       "      <td>2018-11-03T23:44:00.000</td>\n",
       "      <td>440</td>\n",
       "      <td>classic</td>\n",
       "    </tr>\n",
       "    <tr>\n",
       "      <th>4</th>\n",
       "      <td>0</td>\n",
       "      <td>133</td>\n",
       "      <td>3</td>\n",
       "      <td>5</td>\n",
       "      <td>2018-11-01</td>\n",
       "      <td>8820000</td>\n",
       "      <td>92</td>\n",
       "      <td>2018-11-01T15:33:30.000</td>\n",
       "      <td>0</td>\n",
       "      <td>20038783045</td>\n",
       "      <td>2</td>\n",
       "      <td>133</td>\n",
       "      <td>12</td>\n",
       "      <td>0</td>\n",
       "      <td>5</td>\n",
       "      <td>9</td>\n",
       "      <td>2018-11-01T13:06:00.000</td>\n",
       "      <td>147</td>\n",
       "      <td>classic</td>\n",
       "    </tr>\n",
       "  </tbody>\n",
       "</table>\n",
       "</div>"
      ],
      "text/plain": [
       "   asleep_cnt  asleep_min  awake_cnt  awake_min dateOfSleep  duration  \\\n",
       "0           0         380          0          0  2018-09-09  24480000   \n",
       "1           0         416          2          2  2018-09-08  25860000   \n",
       "2           0         352          1          2  2018-11-06  22320000   \n",
       "3           0         409          1          6  2018-11-04  26400000   \n",
       "4           0         133          3          5  2018-11-01   8820000   \n",
       "\n",
       "   efficiency                  endTime  infoCode        logID  \\\n",
       "0          93  2018-09-09T06:42:00.000         0  19454971019   \n",
       "1          97  2018-09-08T06:33:30.000         0  19445045219   \n",
       "2          95  2018-11-06T04:45:30.000         0  20070096843   \n",
       "3          93  2018-11-04T07:04:00.000         0  20050246210   \n",
       "4          92  2018-11-01T15:33:30.000         0  20038783045   \n",
       "\n",
       "   minutesAfterWakeup  minutesAsleep  minutesAwake  minutesToFallAsleep  \\\n",
       "0                   0            380            28                    0   \n",
       "1                   0            416            15                    0   \n",
       "2                   0            352            20                    0   \n",
       "3                   0            409            31                    0   \n",
       "4                   2            133            12                    0   \n",
       "\n",
       "   restless_cnt  restless_min                startTime  timeInBed     type  \n",
       "0            17            28  2018-09-08T23:53:30.000        408  classic  \n",
       "1             9            13  2018-09-07T23:22:30.000        431  classic  \n",
       "2             5            18  2018-11-05T22:33:00.000        372  classic  \n",
       "3            11            25  2018-11-03T23:44:00.000        440  classic  \n",
       "4             5             9  2018-11-01T13:06:00.000        147  classic  "
      ]
     },
     "execution_count": 5,
     "metadata": {},
     "output_type": "execute_result"
    }
   ],
   "source": [
    "df.head()"
   ]
  },
  {
   "cell_type": "code",
   "execution_count": 6,
   "metadata": {},
   "outputs": [],
   "source": [
    "features = ['dateOfSleep','logID','endTime','startTime','timeInBed','asleep_min','awake_min','restless_min']\n"
   ]
  },
  {
   "cell_type": "code",
   "execution_count": 7,
   "metadata": {},
   "outputs": [],
   "source": [
    "# now we want to parse endtime/starttime hours:\n",
    "df_small = df[features].sort_values('dateOfSleep')"
   ]
  },
  {
   "cell_type": "code",
   "execution_count": 8,
   "metadata": {},
   "outputs": [
    {
     "data": {
      "text/html": [
       "<div>\n",
       "<style scoped>\n",
       "    .dataframe tbody tr th:only-of-type {\n",
       "        vertical-align: middle;\n",
       "    }\n",
       "\n",
       "    .dataframe tbody tr th {\n",
       "        vertical-align: top;\n",
       "    }\n",
       "\n",
       "    .dataframe thead th {\n",
       "        text-align: right;\n",
       "    }\n",
       "</style>\n",
       "<table border=\"1\" class=\"dataframe\">\n",
       "  <thead>\n",
       "    <tr style=\"text-align: right;\">\n",
       "      <th></th>\n",
       "      <th>dateOfSleep</th>\n",
       "      <th>logID</th>\n",
       "      <th>endTime</th>\n",
       "      <th>startTime</th>\n",
       "      <th>timeInBed</th>\n",
       "      <th>asleep_min</th>\n",
       "      <th>awake_min</th>\n",
       "      <th>restless_min</th>\n",
       "    </tr>\n",
       "  </thead>\n",
       "  <tbody>\n",
       "    <tr>\n",
       "      <th>1</th>\n",
       "      <td>2018-09-08</td>\n",
       "      <td>19445045219</td>\n",
       "      <td>2018-09-08T06:33:30.000</td>\n",
       "      <td>2018-09-07T23:22:30.000</td>\n",
       "      <td>431</td>\n",
       "      <td>416</td>\n",
       "      <td>2</td>\n",
       "      <td>13</td>\n",
       "    </tr>\n",
       "    <tr>\n",
       "      <th>0</th>\n",
       "      <td>2018-09-09</td>\n",
       "      <td>19454971019</td>\n",
       "      <td>2018-09-09T06:42:00.000</td>\n",
       "      <td>2018-09-08T23:53:30.000</td>\n",
       "      <td>408</td>\n",
       "      <td>380</td>\n",
       "      <td>0</td>\n",
       "      <td>28</td>\n",
       "    </tr>\n",
       "    <tr>\n",
       "      <th>20</th>\n",
       "      <td>2018-10-08</td>\n",
       "      <td>19774997794</td>\n",
       "      <td>2018-10-08T05:51:00.000</td>\n",
       "      <td>2018-10-07T23:48:00.000</td>\n",
       "      <td>363</td>\n",
       "      <td>347</td>\n",
       "      <td>2</td>\n",
       "      <td>14</td>\n",
       "    </tr>\n",
       "    <tr>\n",
       "      <th>19</th>\n",
       "      <td>2018-10-09</td>\n",
       "      <td>19774997795</td>\n",
       "      <td>2018-10-09T08:03:00.000</td>\n",
       "      <td>2018-10-09T02:00:30.000</td>\n",
       "      <td>362</td>\n",
       "      <td>337</td>\n",
       "      <td>4</td>\n",
       "      <td>21</td>\n",
       "    </tr>\n",
       "    <tr>\n",
       "      <th>18</th>\n",
       "      <td>2018-10-12</td>\n",
       "      <td>19807801480</td>\n",
       "      <td>2018-10-12T06:32:00.000</td>\n",
       "      <td>2018-10-11T21:40:00.000</td>\n",
       "      <td>532</td>\n",
       "      <td>508</td>\n",
       "      <td>0</td>\n",
       "      <td>24</td>\n",
       "    </tr>\n",
       "  </tbody>\n",
       "</table>\n",
       "</div>"
      ],
      "text/plain": [
       "   dateOfSleep        logID                  endTime                startTime  \\\n",
       "1   2018-09-08  19445045219  2018-09-08T06:33:30.000  2018-09-07T23:22:30.000   \n",
       "0   2018-09-09  19454971019  2018-09-09T06:42:00.000  2018-09-08T23:53:30.000   \n",
       "20  2018-10-08  19774997794  2018-10-08T05:51:00.000  2018-10-07T23:48:00.000   \n",
       "19  2018-10-09  19774997795  2018-10-09T08:03:00.000  2018-10-09T02:00:30.000   \n",
       "18  2018-10-12  19807801480  2018-10-12T06:32:00.000  2018-10-11T21:40:00.000   \n",
       "\n",
       "    timeInBed  asleep_min  awake_min  restless_min  \n",
       "1         431         416          2            13  \n",
       "0         408         380          0            28  \n",
       "20        363         347          2            14  \n",
       "19        362         337          4            21  \n",
       "18        532         508          0            24  "
      ]
     },
     "execution_count": 8,
     "metadata": {},
     "output_type": "execute_result"
    }
   ],
   "source": [
    "df_small.head()"
   ]
  },
  {
   "cell_type": "code",
   "execution_count": 9,
   "metadata": {},
   "outputs": [],
   "source": [
    "df_small['endDate'] = [i[:10] for i in df_small['endTime']]\n",
    "df_small['endHour'] = [i[11:13] for i in df_small['endTime']]\n",
    "df_small['endMin'] = [i[14:16] for i in df_small['endTime']]\n",
    "df_small['endSec'] = [i[17:19] for i in df_small['endTime']]\n",
    "df_small['endnnn'] = [i[20:] for i in df_small['endTime']]"
   ]
  },
  {
   "cell_type": "code",
   "execution_count": 10,
   "metadata": {},
   "outputs": [],
   "source": [
    "df_small['startDate'] = [i[:10] for i in df_small['startTime']]\n",
    "df_small['startHour'] = [i[11:13] for i in df_small['startTime']]\n",
    "df_small['startMin'] = [i[14:16] for i in df_small['startTime']]\n",
    "df_small['startSec'] = [i[17:19] for i in df_small['startTime']]\n",
    "df_small['startnnn'] = [i[20:] for i in df_small['startTime']]"
   ]
  },
  {
   "cell_type": "code",
   "execution_count": 11,
   "metadata": {},
   "outputs": [],
   "source": [
    "df_small.set_index('dateOfSleep',inplace=True)"
   ]
  },
  {
   "cell_type": "code",
   "execution_count": 12,
   "metadata": {},
   "outputs": [],
   "source": [
    "def map_mins(minute):\n",
    "    minute = int(minute)\n",
    "    if minute < 15:\n",
    "        return 0\n",
    "    elif minute < 30:\n",
    "        return 15\n",
    "    elif minute < 45:\n",
    "        return 30\n",
    "    else:\n",
    "        return 45"
   ]
  },
  {
   "cell_type": "code",
   "execution_count": 13,
   "metadata": {
    "scrolled": true
   },
   "outputs": [],
   "source": [
    "df_small['endMinMp'] = df_small['endMin'].apply(map_mins)\n",
    "df_small['startMinMp'] = df_small['startMin'].apply(map_mins)\n",
    "df_small['endHrMin'] = df_small.apply(lambda x:'%s%s' % (x['endHour'],x['endMinMp']),axis=1)\n",
    "df_small['startHrMin'] = df_small.apply(lambda x:'%s%s' % (x['startHour'],x['startMinMp']),axis=1)"
   ]
  },
  {
   "cell_type": "code",
   "execution_count": 14,
   "metadata": {},
   "outputs": [
    {
     "data": {
      "text/html": [
       "<div>\n",
       "<style scoped>\n",
       "    .dataframe tbody tr th:only-of-type {\n",
       "        vertical-align: middle;\n",
       "    }\n",
       "\n",
       "    .dataframe tbody tr th {\n",
       "        vertical-align: top;\n",
       "    }\n",
       "\n",
       "    .dataframe thead th {\n",
       "        text-align: right;\n",
       "    }\n",
       "</style>\n",
       "<table border=\"1\" class=\"dataframe\">\n",
       "  <thead>\n",
       "    <tr style=\"text-align: right;\">\n",
       "      <th></th>\n",
       "      <th>logID</th>\n",
       "      <th>endTime</th>\n",
       "      <th>startTime</th>\n",
       "      <th>timeInBed</th>\n",
       "      <th>asleep_min</th>\n",
       "      <th>awake_min</th>\n",
       "      <th>restless_min</th>\n",
       "      <th>endDate</th>\n",
       "      <th>endHour</th>\n",
       "      <th>endMin</th>\n",
       "      <th>...</th>\n",
       "      <th>endnnn</th>\n",
       "      <th>startDate</th>\n",
       "      <th>startHour</th>\n",
       "      <th>startMin</th>\n",
       "      <th>startSec</th>\n",
       "      <th>startnnn</th>\n",
       "      <th>endMinMp</th>\n",
       "      <th>startMinMp</th>\n",
       "      <th>endHrMin</th>\n",
       "      <th>startHrMin</th>\n",
       "    </tr>\n",
       "    <tr>\n",
       "      <th>dateOfSleep</th>\n",
       "      <th></th>\n",
       "      <th></th>\n",
       "      <th></th>\n",
       "      <th></th>\n",
       "      <th></th>\n",
       "      <th></th>\n",
       "      <th></th>\n",
       "      <th></th>\n",
       "      <th></th>\n",
       "      <th></th>\n",
       "      <th></th>\n",
       "      <th></th>\n",
       "      <th></th>\n",
       "      <th></th>\n",
       "      <th></th>\n",
       "      <th></th>\n",
       "      <th></th>\n",
       "      <th></th>\n",
       "      <th></th>\n",
       "      <th></th>\n",
       "      <th></th>\n",
       "    </tr>\n",
       "  </thead>\n",
       "  <tbody>\n",
       "    <tr>\n",
       "      <th>2018-09-08</th>\n",
       "      <td>19445045219</td>\n",
       "      <td>2018-09-08T06:33:30.000</td>\n",
       "      <td>2018-09-07T23:22:30.000</td>\n",
       "      <td>431</td>\n",
       "      <td>416</td>\n",
       "      <td>2</td>\n",
       "      <td>13</td>\n",
       "      <td>2018-09-08</td>\n",
       "      <td>06</td>\n",
       "      <td>33</td>\n",
       "      <td>...</td>\n",
       "      <td>000</td>\n",
       "      <td>2018-09-07</td>\n",
       "      <td>23</td>\n",
       "      <td>22</td>\n",
       "      <td>30</td>\n",
       "      <td>000</td>\n",
       "      <td>30</td>\n",
       "      <td>15</td>\n",
       "      <td>0630</td>\n",
       "      <td>2315</td>\n",
       "    </tr>\n",
       "    <tr>\n",
       "      <th>2018-09-09</th>\n",
       "      <td>19454971019</td>\n",
       "      <td>2018-09-09T06:42:00.000</td>\n",
       "      <td>2018-09-08T23:53:30.000</td>\n",
       "      <td>408</td>\n",
       "      <td>380</td>\n",
       "      <td>0</td>\n",
       "      <td>28</td>\n",
       "      <td>2018-09-09</td>\n",
       "      <td>06</td>\n",
       "      <td>42</td>\n",
       "      <td>...</td>\n",
       "      <td>000</td>\n",
       "      <td>2018-09-08</td>\n",
       "      <td>23</td>\n",
       "      <td>53</td>\n",
       "      <td>30</td>\n",
       "      <td>000</td>\n",
       "      <td>30</td>\n",
       "      <td>45</td>\n",
       "      <td>0630</td>\n",
       "      <td>2345</td>\n",
       "    </tr>\n",
       "    <tr>\n",
       "      <th>2018-10-08</th>\n",
       "      <td>19774997794</td>\n",
       "      <td>2018-10-08T05:51:00.000</td>\n",
       "      <td>2018-10-07T23:48:00.000</td>\n",
       "      <td>363</td>\n",
       "      <td>347</td>\n",
       "      <td>2</td>\n",
       "      <td>14</td>\n",
       "      <td>2018-10-08</td>\n",
       "      <td>05</td>\n",
       "      <td>51</td>\n",
       "      <td>...</td>\n",
       "      <td>000</td>\n",
       "      <td>2018-10-07</td>\n",
       "      <td>23</td>\n",
       "      <td>48</td>\n",
       "      <td>00</td>\n",
       "      <td>000</td>\n",
       "      <td>45</td>\n",
       "      <td>45</td>\n",
       "      <td>0545</td>\n",
       "      <td>2345</td>\n",
       "    </tr>\n",
       "    <tr>\n",
       "      <th>2018-10-09</th>\n",
       "      <td>19774997795</td>\n",
       "      <td>2018-10-09T08:03:00.000</td>\n",
       "      <td>2018-10-09T02:00:30.000</td>\n",
       "      <td>362</td>\n",
       "      <td>337</td>\n",
       "      <td>4</td>\n",
       "      <td>21</td>\n",
       "      <td>2018-10-09</td>\n",
       "      <td>08</td>\n",
       "      <td>03</td>\n",
       "      <td>...</td>\n",
       "      <td>000</td>\n",
       "      <td>2018-10-09</td>\n",
       "      <td>02</td>\n",
       "      <td>00</td>\n",
       "      <td>30</td>\n",
       "      <td>000</td>\n",
       "      <td>0</td>\n",
       "      <td>0</td>\n",
       "      <td>080</td>\n",
       "      <td>020</td>\n",
       "    </tr>\n",
       "    <tr>\n",
       "      <th>2018-10-12</th>\n",
       "      <td>19807801480</td>\n",
       "      <td>2018-10-12T06:32:00.000</td>\n",
       "      <td>2018-10-11T21:40:00.000</td>\n",
       "      <td>532</td>\n",
       "      <td>508</td>\n",
       "      <td>0</td>\n",
       "      <td>24</td>\n",
       "      <td>2018-10-12</td>\n",
       "      <td>06</td>\n",
       "      <td>32</td>\n",
       "      <td>...</td>\n",
       "      <td>000</td>\n",
       "      <td>2018-10-11</td>\n",
       "      <td>21</td>\n",
       "      <td>40</td>\n",
       "      <td>00</td>\n",
       "      <td>000</td>\n",
       "      <td>30</td>\n",
       "      <td>30</td>\n",
       "      <td>0630</td>\n",
       "      <td>2130</td>\n",
       "    </tr>\n",
       "  </tbody>\n",
       "</table>\n",
       "<p>5 rows × 21 columns</p>\n",
       "</div>"
      ],
      "text/plain": [
       "                   logID                  endTime                startTime  \\\n",
       "dateOfSleep                                                                  \n",
       "2018-09-08   19445045219  2018-09-08T06:33:30.000  2018-09-07T23:22:30.000   \n",
       "2018-09-09   19454971019  2018-09-09T06:42:00.000  2018-09-08T23:53:30.000   \n",
       "2018-10-08   19774997794  2018-10-08T05:51:00.000  2018-10-07T23:48:00.000   \n",
       "2018-10-09   19774997795  2018-10-09T08:03:00.000  2018-10-09T02:00:30.000   \n",
       "2018-10-12   19807801480  2018-10-12T06:32:00.000  2018-10-11T21:40:00.000   \n",
       "\n",
       "             timeInBed  asleep_min  awake_min  restless_min     endDate  \\\n",
       "dateOfSleep                                                               \n",
       "2018-09-08         431         416          2            13  2018-09-08   \n",
       "2018-09-09         408         380          0            28  2018-09-09   \n",
       "2018-10-08         363         347          2            14  2018-10-08   \n",
       "2018-10-09         362         337          4            21  2018-10-09   \n",
       "2018-10-12         532         508          0            24  2018-10-12   \n",
       "\n",
       "            endHour endMin    ...     endnnn   startDate startHour startMin  \\\n",
       "dateOfSleep                   ...                                             \n",
       "2018-09-08       06     33    ...        000  2018-09-07        23       22   \n",
       "2018-09-09       06     42    ...        000  2018-09-08        23       53   \n",
       "2018-10-08       05     51    ...        000  2018-10-07        23       48   \n",
       "2018-10-09       08     03    ...        000  2018-10-09        02       00   \n",
       "2018-10-12       06     32    ...        000  2018-10-11        21       40   \n",
       "\n",
       "            startSec startnnn endMinMp  startMinMp  endHrMin startHrMin  \n",
       "dateOfSleep                                                              \n",
       "2018-09-08        30      000       30          15      0630       2315  \n",
       "2018-09-09        30      000       30          45      0630       2345  \n",
       "2018-10-08        00      000       45          45      0545       2345  \n",
       "2018-10-09        30      000        0           0       080        020  \n",
       "2018-10-12        00      000       30          30      0630       2130  \n",
       "\n",
       "[5 rows x 21 columns]"
      ]
     },
     "execution_count": 14,
     "metadata": {},
     "output_type": "execute_result"
    }
   ],
   "source": [
    "df_small.head()"
   ]
  },
  {
   "cell_type": "code",
   "execution_count": 15,
   "metadata": {},
   "outputs": [],
   "source": [
    "cols = ['endHour','endMin','endSec','endnnn','startHour','startMin','startSec','startnnn','endMinMp','startMinMp']"
   ]
  },
  {
   "cell_type": "code",
   "execution_count": 16,
   "metadata": {},
   "outputs": [],
   "source": [
    "df_small.drop(columns=cols,inplace = True)"
   ]
  },
  {
   "cell_type": "code",
   "execution_count": 17,
   "metadata": {},
   "outputs": [
    {
     "data": {
      "text/html": [
       "<div>\n",
       "<style scoped>\n",
       "    .dataframe tbody tr th:only-of-type {\n",
       "        vertical-align: middle;\n",
       "    }\n",
       "\n",
       "    .dataframe tbody tr th {\n",
       "        vertical-align: top;\n",
       "    }\n",
       "\n",
       "    .dataframe thead th {\n",
       "        text-align: right;\n",
       "    }\n",
       "</style>\n",
       "<table border=\"1\" class=\"dataframe\">\n",
       "  <thead>\n",
       "    <tr style=\"text-align: right;\">\n",
       "      <th></th>\n",
       "      <th>count</th>\n",
       "      <th>mean</th>\n",
       "      <th>std</th>\n",
       "      <th>min</th>\n",
       "      <th>25%</th>\n",
       "      <th>50%</th>\n",
       "      <th>75%</th>\n",
       "      <th>max</th>\n",
       "    </tr>\n",
       "  </thead>\n",
       "  <tbody>\n",
       "    <tr>\n",
       "      <th>timeInBed</th>\n",
       "      <td>83.0</td>\n",
       "      <td>408.036145</td>\n",
       "      <td>123.579583</td>\n",
       "      <td>61.0</td>\n",
       "      <td>386.0</td>\n",
       "      <td>437.0</td>\n",
       "      <td>462.5</td>\n",
       "      <td>696.0</td>\n",
       "    </tr>\n",
       "    <tr>\n",
       "      <th>awake_min</th>\n",
       "      <td>83.0</td>\n",
       "      <td>2.192771</td>\n",
       "      <td>2.350183</td>\n",
       "      <td>0.0</td>\n",
       "      <td>0.0</td>\n",
       "      <td>2.0</td>\n",
       "      <td>4.0</td>\n",
       "      <td>9.0</td>\n",
       "    </tr>\n",
       "    <tr>\n",
       "      <th>restless_min</th>\n",
       "      <td>83.0</td>\n",
       "      <td>17.734940</td>\n",
       "      <td>10.576186</td>\n",
       "      <td>0.0</td>\n",
       "      <td>9.5</td>\n",
       "      <td>17.0</td>\n",
       "      <td>24.0</td>\n",
       "      <td>54.0</td>\n",
       "    </tr>\n",
       "    <tr>\n",
       "      <th>asleep_min</th>\n",
       "      <td>83.0</td>\n",
       "      <td>388.108434</td>\n",
       "      <td>117.483057</td>\n",
       "      <td>56.0</td>\n",
       "      <td>367.0</td>\n",
       "      <td>416.0</td>\n",
       "      <td>443.5</td>\n",
       "      <td>677.0</td>\n",
       "    </tr>\n",
       "  </tbody>\n",
       "</table>\n",
       "</div>"
      ],
      "text/plain": [
       "              count        mean         std   min    25%    50%    75%    max\n",
       "timeInBed      83.0  408.036145  123.579583  61.0  386.0  437.0  462.5  696.0\n",
       "awake_min      83.0    2.192771    2.350183   0.0    0.0    2.0    4.0    9.0\n",
       "restless_min   83.0   17.734940   10.576186   0.0    9.5   17.0   24.0   54.0\n",
       "asleep_min     83.0  388.108434  117.483057  56.0  367.0  416.0  443.5  677.0"
      ]
     },
     "execution_count": 17,
     "metadata": {},
     "output_type": "execute_result"
    }
   ],
   "source": [
    "df_small[['timeInBed','awake_min','restless_min','asleep_min']].describe().T"
   ]
  },
  {
   "cell_type": "code",
   "execution_count": 50,
   "metadata": {},
   "outputs": [],
   "source": [
    "avg_sleep_based_start = df_small.groupby(by = 'startHrMin')['timeInBed','awake_min','restless_min','asleep_min'].mean()"
   ]
  },
  {
   "cell_type": "code",
   "execution_count": 51,
   "metadata": {},
   "outputs": [],
   "source": [
    "sns.set_style(\"whitegrid\")"
   ]
  },
  {
   "cell_type": "markdown",
   "metadata": {},
   "source": [
    "#### Some code to test for visualizations before using interact library\n",
    "\n",
    "```python\n",
    "plt.figure(figsize = (8,6))\n",
    "# plt.scatter(avg_sleep_based_start.index,avg_sleep_based_start['timeInBed'],color = 'mistyrose')\n",
    "plt.plot(avg_sleep_based_start.index, avg_sleep_based_start['awake_min'],'-o',color = 'pink', label = 'Avg Time Awake')\n",
    "sns.scatterplot(x=df_small['startHrMin'],y=df_small['awake_min'],color = 'mistyrose')\n",
    "plt.xlabel('Sleep StartTime in Hour Minute bins', fontsize = 12)\n",
    "plt.ylabel('Minutes spent in awake', fontsize = 12)\n",
    "plt.title('Variability of Time Awake based on Sleep StartTime', fontsize=15)\n",
    "plt.xticks(rotation=90);\n",
    "\n",
    "plt.figure(figsize = (8,6))\n",
    "# plt.scatter(avg_sleep_based_start.index,avg_sleep_based_start['timeInBed'],color = 'mistyrose')\n",
    "plt.plot(avg_sleep_based_start.index, avg_sleep_based_start['restless_min'],'-o',color = 'pink', label = 'Avg Time Restless')\n",
    "sns.scatterplot(x=df_small['startHrMin'],y=df_small['restless_min'],color = 'mistyrose')\n",
    "plt.xlabel('Sleep StartTime in Hour Minute bins', fontsize = 12)\n",
    "plt.ylabel('Minutes spent restless', fontsize = 12)\n",
    "plt.title('Variability of Time restless  based on Sleep StartTime', fontsize=15)\n",
    "plt.xticks(rotation=90);\n",
    "\n",
    "plt.figure(figsize = (8,6))\n",
    "# plt.scatter(avg_sleep_based_start.index,avg_sleep_based_start['timeInBed'],color = 'mistyrose')\n",
    "plt.plot(avg_sleep_based_start.index, avg_sleep_based_start['timeInBed'],'-o',color = 'pink', label = 'Avg Time In Bed')\n",
    "sns.scatterplot(x=df_small['startHrMin'],y=df_small['timeInBed'],color = 'mistyrose')\n",
    "plt.xlabel('Sleep StartTime in Hour Minute bins', fontsize = 12)\n",
    "plt.ylabel('Minutes spent in Bed', fontsize = 12)\n",
    "plt.title('Variability of Time in Bed based on Sleep StartTime', fontsize=15)\n",
    "plt.xticks(rotation=90);\n",
    "```"
   ]
  },
  {
   "cell_type": "code",
   "execution_count": 52,
   "metadata": {},
   "outputs": [
    {
     "data": {
      "application/vnd.jupyter.widget-view+json": {
       "model_id": "d6f97ed877b44dc08adf9b97f73b563a",
       "version_major": 2,
       "version_minor": 0
      },
      "text/plain": [
       "interactive(children=(Dropdown(description='columns', options=('timeInBed', 'awake_min', 'restless_min', 'asle…"
      ]
     },
     "metadata": {},
     "output_type": "display_data"
    }
   ],
   "source": [
    "@interact\n",
    "def show_avg_and_reg(columns=['timeInBed','awake_min','restless_min','asleep_min']):\n",
    "    plt.figure(figsize = (8,6))\n",
    "    # plt.scatter(avg_sleep_based_start.index,avg_sleep_based_start['timeInBed'],color = 'mistyrose')\n",
    "    plt.plot(avg_sleep_based_start.index, avg_sleep_based_start[columns],'-o',color = 'hotpink', label = 'Avg Time')\n",
    "    sns.scatterplot(x=df_small['startHrMin'],y=df_small[columns],color = 'pink')\n",
    "    plt.xlabel('Sleep StartTime in Hour Minute bins', fontsize = 12)\n",
    "    plt.ylabel('Minutes Spent in Stage of Sleep', fontsize = 12)\n",
    "    plt.title('Variability of Time in Stage of Sleep based on Sleep StartTime', fontsize=15)\n",
    "    plt.xticks(rotation=90);"
   ]
  },
  {
   "cell_type": "code",
   "execution_count": 22,
   "metadata": {},
   "outputs": [],
   "source": [
    "clean_df = pd.read_csv('../../Data/Cleaned Data/data_for_modeling_cleaned_20190204.csv')"
   ]
  },
  {
   "cell_type": "markdown",
   "metadata": {},
   "source": [
    "```python\n",
    "# sanity checks\n",
    "clean_df.head()\n",
    "clean_df.dtypes\n",
    "```"
   ]
  },
  {
   "cell_type": "code",
   "execution_count": 25,
   "metadata": {},
   "outputs": [],
   "source": [
    "dayofwk_map = {0:'Mon',\n",
    "               1:'Tues',\n",
    "               2:'Wed',\n",
    "               3:'Thurs',\n",
    "               4:'Fri',\n",
    "               5:'Sat',\n",
    "               6:'Sun'\n",
    "              }"
   ]
  },
  {
   "cell_type": "code",
   "execution_count": 26,
   "metadata": {},
   "outputs": [],
   "source": [
    "clean_df['dayofwk'] = clean_df['dayofweek'].map(dayofwk_map)"
   ]
  },
  {
   "cell_type": "code",
   "execution_count": 39,
   "metadata": {
    "scrolled": true
   },
   "outputs": [
    {
     "data": {
      "application/vnd.jupyter.widget-view+json": {
       "model_id": "9af9cd4b838d4b6598687241350e0cbe",
       "version_major": 2,
       "version_minor": 0
      },
      "text/plain": [
       "interactive(children=(Dropdown(description='columns', options=('timeInBed', 'awake_min', 'restless_min', 'asle…"
      ]
     },
     "metadata": {},
     "output_type": "display_data"
    }
   ],
   "source": [
    "@interact\n",
    "def create_groupby(columns=['timeInBed','awake_min','restless_min','asleep_min']):\n",
    "    return clean_df.groupby(by = 'dayofweek')[columns].describe()"
   ]
  },
  {
   "cell_type": "code",
   "execution_count": 46,
   "metadata": {},
   "outputs": [],
   "source": [
    "avg_sleep_dayofwk = clean_df.groupby(by = 'dayofweek')['timeInBed','awake_min','restless_min','asleep_min'].mean()"
   ]
  },
  {
   "cell_type": "code",
   "execution_count": 47,
   "metadata": {},
   "outputs": [
    {
     "data": {
      "text/html": [
       "<div>\n",
       "<style scoped>\n",
       "    .dataframe tbody tr th:only-of-type {\n",
       "        vertical-align: middle;\n",
       "    }\n",
       "\n",
       "    .dataframe tbody tr th {\n",
       "        vertical-align: top;\n",
       "    }\n",
       "\n",
       "    .dataframe thead th {\n",
       "        text-align: right;\n",
       "    }\n",
       "</style>\n",
       "<table border=\"1\" class=\"dataframe\">\n",
       "  <thead>\n",
       "    <tr style=\"text-align: right;\">\n",
       "      <th></th>\n",
       "      <th>timeInBed</th>\n",
       "      <th>awake_min</th>\n",
       "      <th>restless_min</th>\n",
       "      <th>asleep_min</th>\n",
       "    </tr>\n",
       "    <tr>\n",
       "      <th>dayofweek</th>\n",
       "      <th></th>\n",
       "      <th></th>\n",
       "      <th></th>\n",
       "      <th></th>\n",
       "    </tr>\n",
       "  </thead>\n",
       "  <tbody>\n",
       "    <tr>\n",
       "      <th>0</th>\n",
       "      <td>415.687500</td>\n",
       "      <td>2.125000</td>\n",
       "      <td>17.062500</td>\n",
       "      <td>396.000000</td>\n",
       "    </tr>\n",
       "    <tr>\n",
       "      <th>1</th>\n",
       "      <td>425.764706</td>\n",
       "      <td>1.529412</td>\n",
       "      <td>16.764706</td>\n",
       "      <td>407.235294</td>\n",
       "    </tr>\n",
       "    <tr>\n",
       "      <th>2</th>\n",
       "      <td>448.687500</td>\n",
       "      <td>2.625000</td>\n",
       "      <td>18.437500</td>\n",
       "      <td>427.250000</td>\n",
       "    </tr>\n",
       "    <tr>\n",
       "      <th>3</th>\n",
       "      <td>386.100000</td>\n",
       "      <td>2.050000</td>\n",
       "      <td>18.400000</td>\n",
       "      <td>365.400000</td>\n",
       "    </tr>\n",
       "    <tr>\n",
       "      <th>4</th>\n",
       "      <td>440.125000</td>\n",
       "      <td>1.937500</td>\n",
       "      <td>15.437500</td>\n",
       "      <td>422.437500</td>\n",
       "    </tr>\n",
       "  </tbody>\n",
       "</table>\n",
       "</div>"
      ],
      "text/plain": [
       "            timeInBed  awake_min  restless_min  asleep_min\n",
       "dayofweek                                                 \n",
       "0          415.687500   2.125000     17.062500  396.000000\n",
       "1          425.764706   1.529412     16.764706  407.235294\n",
       "2          448.687500   2.625000     18.437500  427.250000\n",
       "3          386.100000   2.050000     18.400000  365.400000\n",
       "4          440.125000   1.937500     15.437500  422.437500"
      ]
     },
     "execution_count": 47,
     "metadata": {},
     "output_type": "execute_result"
    }
   ],
   "source": [
    "# sanity checks\n",
    "avg_sleep_dayofwk.head()"
   ]
  },
  {
   "cell_type": "code",
   "execution_count": 48,
   "metadata": {
    "scrolled": true
   },
   "outputs": [
    {
     "data": {
      "application/vnd.jupyter.widget-view+json": {
       "model_id": "bbfeb2895db24405938693f15183d8f8",
       "version_major": 2,
       "version_minor": 0
      },
      "text/plain": [
       "interactive(children=(Dropdown(description='columns', options=('timeInBed', 'awake_min', 'restless_min', 'asle…"
      ]
     },
     "metadata": {},
     "output_type": "display_data"
    }
   ],
   "source": [
    "#monday = 0, sunday = 6\n",
    "@interact\n",
    "def show_avg_and_reg(columns=['timeInBed','awake_min','restless_min','asleep_min']):\n",
    "    plt.figure(figsize = (8,6))\n",
    "    # plt.scatter(avg_sleep_based_start.index,avg_sleep_based_start['timeInBed'],color = 'mistyrose')\n",
    "    plt.plot(avg_sleep_dayofwk.index, avg_sleep_dayofwk[columns],'-o',color = 'hotpink', label = 'Avg Time')\n",
    "    sns.scatterplot(x=clean_df['dayofweek'],y=clean_df[columns],color = 'pink')\n",
    "    plt.xlabel('Day of Week', fontsize = 12)\n",
    "    plt.xticks(ticks=avg_sleep_dayofwk.index ,labels=['Mon','Tue','Wed','Thur','Fri','Sat','Sun'], rotation=90)\n",
    "    plt.ylabel('Minutes Spent in Stage of Sleep', fontsize = 12)\n",
    "    plt.title('Variability of Time in Stage of Sleep based on Day of Week', fontsize=15);"
   ]
  },
  {
   "cell_type": "code",
   "execution_count": null,
   "metadata": {},
   "outputs": [],
   "source": []
  }
 ],
 "metadata": {
  "kernelspec": {
   "display_name": "Python 3",
   "language": "python",
   "name": "python3"
  },
  "language_info": {
   "codemirror_mode": {
    "name": "ipython",
    "version": 3
   },
   "file_extension": ".py",
   "mimetype": "text/x-python",
   "name": "python",
   "nbconvert_exporter": "python",
   "pygments_lexer": "ipython3",
   "version": "3.6.4"
  }
 },
 "nbformat": 4,
 "nbformat_minor": 2
}
