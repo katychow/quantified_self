{
 "cells": [
  {
   "cell_type": "code",
   "execution_count": 1,
   "metadata": {},
   "outputs": [],
   "source": [
    "import pandas as pd"
   ]
  },
  {
   "cell_type": "code",
   "execution_count": 2,
   "metadata": {},
   "outputs": [],
   "source": [
    "ds = pd.read_csv('/Users/katychow/Projects/quantified_self/Data/sleep_data_20190206.csv')\n",
    "df = pd.read_csv('/Users/katychow/Projects/quantified_self/Data/Sleep Data/fitbit_sleep_header_20190128.csv')"
   ]
  },
  {
   "cell_type": "code",
   "execution_count": 3,
   "metadata": {},
   "outputs": [],
   "source": [
    "def map_mins(minute):\n",
    "    if minute < 15:\n",
    "        return 0\n",
    "    elif minute < 30:\n",
    "        return 15\n",
    "    elif minute < 45:\n",
    "        return 30\n",
    "    else:\n",
    "        return 45"
   ]
  },
  {
   "cell_type": "code",
   "execution_count": 4,
   "metadata": {},
   "outputs": [],
   "source": [
    "ds['min_map'] = ds['min'].apply(map_mins)"
   ]
  },
  {
   "cell_type": "code",
   "execution_count": 5,
   "metadata": {},
   "outputs": [
    {
     "data": {
      "text/html": [
       "<div>\n",
       "<style scoped>\n",
       "    .dataframe tbody tr th:only-of-type {\n",
       "        vertical-align: middle;\n",
       "    }\n",
       "\n",
       "    .dataframe tbody tr th {\n",
       "        vertical-align: top;\n",
       "    }\n",
       "\n",
       "    .dataframe thead th {\n",
       "        text-align: right;\n",
       "    }\n",
       "</style>\n",
       "<table border=\"1\" class=\"dataframe\">\n",
       "  <thead>\n",
       "    <tr style=\"text-align: right;\">\n",
       "      <th></th>\n",
       "      <th>dateTime</th>\n",
       "      <th>level</th>\n",
       "      <th>logID</th>\n",
       "      <th>seconds</th>\n",
       "      <th>date</th>\n",
       "      <th>hour</th>\n",
       "      <th>min</th>\n",
       "      <th>sec</th>\n",
       "      <th>nnn</th>\n",
       "      <th>min_map</th>\n",
       "    </tr>\n",
       "  </thead>\n",
       "  <tbody>\n",
       "    <tr>\n",
       "      <th>0</th>\n",
       "      <td>2018-09-08T23:53:30.000</td>\n",
       "      <td>asleep</td>\n",
       "      <td>19454971019</td>\n",
       "      <td>180</td>\n",
       "      <td>2018-09-08</td>\n",
       "      <td>23</td>\n",
       "      <td>53</td>\n",
       "      <td>30</td>\n",
       "      <td>0</td>\n",
       "      <td>45</td>\n",
       "    </tr>\n",
       "    <tr>\n",
       "      <th>1</th>\n",
       "      <td>2018-09-08T23:56:30.000</td>\n",
       "      <td>restless</td>\n",
       "      <td>19454971019</td>\n",
       "      <td>60</td>\n",
       "      <td>2018-09-08</td>\n",
       "      <td>23</td>\n",
       "      <td>56</td>\n",
       "      <td>30</td>\n",
       "      <td>0</td>\n",
       "      <td>45</td>\n",
       "    </tr>\n",
       "    <tr>\n",
       "      <th>2</th>\n",
       "      <td>2018-09-08T23:57:30.000</td>\n",
       "      <td>asleep</td>\n",
       "      <td>19454971019</td>\n",
       "      <td>960</td>\n",
       "      <td>2018-09-08</td>\n",
       "      <td>23</td>\n",
       "      <td>57</td>\n",
       "      <td>30</td>\n",
       "      <td>0</td>\n",
       "      <td>45</td>\n",
       "    </tr>\n",
       "    <tr>\n",
       "      <th>3</th>\n",
       "      <td>2018-09-09T00:13:30.000</td>\n",
       "      <td>restless</td>\n",
       "      <td>19454971019</td>\n",
       "      <td>60</td>\n",
       "      <td>2018-09-09</td>\n",
       "      <td>0</td>\n",
       "      <td>13</td>\n",
       "      <td>30</td>\n",
       "      <td>0</td>\n",
       "      <td>0</td>\n",
       "    </tr>\n",
       "    <tr>\n",
       "      <th>4</th>\n",
       "      <td>2018-09-09T00:14:30.000</td>\n",
       "      <td>asleep</td>\n",
       "      <td>19454971019</td>\n",
       "      <td>180</td>\n",
       "      <td>2018-09-09</td>\n",
       "      <td>0</td>\n",
       "      <td>14</td>\n",
       "      <td>30</td>\n",
       "      <td>0</td>\n",
       "      <td>0</td>\n",
       "    </tr>\n",
       "  </tbody>\n",
       "</table>\n",
       "</div>"
      ],
      "text/plain": [
       "                  dateTime     level        logID  seconds        date  hour  \\\n",
       "0  2018-09-08T23:53:30.000    asleep  19454971019      180  2018-09-08    23   \n",
       "1  2018-09-08T23:56:30.000  restless  19454971019       60  2018-09-08    23   \n",
       "2  2018-09-08T23:57:30.000    asleep  19454971019      960  2018-09-08    23   \n",
       "3  2018-09-09T00:13:30.000  restless  19454971019       60  2018-09-09     0   \n",
       "4  2018-09-09T00:14:30.000    asleep  19454971019      180  2018-09-09     0   \n",
       "\n",
       "   min  sec  nnn  min_map  \n",
       "0   53   30    0       45  \n",
       "1   56   30    0       45  \n",
       "2   57   30    0       45  \n",
       "3   13   30    0        0  \n",
       "4   14   30    0        0  "
      ]
     },
     "execution_count": 5,
     "metadata": {},
     "output_type": "execute_result"
    }
   ],
   "source": [
    "ds.head()"
   ]
  },
  {
   "cell_type": "code",
   "execution_count": 6,
   "metadata": {},
   "outputs": [],
   "source": [
    "ds['hr_min'] = ds.apply(lambda x:'%s%s' % (x['hour'],x['min_map']),axis=1)"
   ]
  },
  {
   "cell_type": "code",
   "execution_count": 7,
   "metadata": {},
   "outputs": [
    {
     "data": {
      "text/html": [
       "<div>\n",
       "<style scoped>\n",
       "    .dataframe tbody tr th:only-of-type {\n",
       "        vertical-align: middle;\n",
       "    }\n",
       "\n",
       "    .dataframe tbody tr th {\n",
       "        vertical-align: top;\n",
       "    }\n",
       "\n",
       "    .dataframe thead th {\n",
       "        text-align: right;\n",
       "    }\n",
       "</style>\n",
       "<table border=\"1\" class=\"dataframe\">\n",
       "  <thead>\n",
       "    <tr style=\"text-align: right;\">\n",
       "      <th></th>\n",
       "      <th>asleep_cnt</th>\n",
       "      <th>asleep_min</th>\n",
       "      <th>awake_cnt</th>\n",
       "      <th>awake_min</th>\n",
       "      <th>dateOfSleep</th>\n",
       "      <th>duration</th>\n",
       "      <th>efficiency</th>\n",
       "      <th>endTime</th>\n",
       "      <th>infoCode</th>\n",
       "      <th>logID</th>\n",
       "      <th>minutesAfterWakeup</th>\n",
       "      <th>minutesAsleep</th>\n",
       "      <th>minutesAwake</th>\n",
       "      <th>minutesToFallAsleep</th>\n",
       "      <th>restless_cnt</th>\n",
       "      <th>restless_min</th>\n",
       "      <th>startTime</th>\n",
       "      <th>timeInBed</th>\n",
       "      <th>type</th>\n",
       "    </tr>\n",
       "  </thead>\n",
       "  <tbody>\n",
       "    <tr>\n",
       "      <th>0</th>\n",
       "      <td>0</td>\n",
       "      <td>380</td>\n",
       "      <td>0</td>\n",
       "      <td>0</td>\n",
       "      <td>2018-09-09</td>\n",
       "      <td>24480000</td>\n",
       "      <td>93</td>\n",
       "      <td>2018-09-09T06:42:00.000</td>\n",
       "      <td>0</td>\n",
       "      <td>19454971019</td>\n",
       "      <td>0</td>\n",
       "      <td>380</td>\n",
       "      <td>28</td>\n",
       "      <td>0</td>\n",
       "      <td>17</td>\n",
       "      <td>28</td>\n",
       "      <td>2018-09-08T23:53:30.000</td>\n",
       "      <td>408</td>\n",
       "      <td>classic</td>\n",
       "    </tr>\n",
       "    <tr>\n",
       "      <th>1</th>\n",
       "      <td>0</td>\n",
       "      <td>416</td>\n",
       "      <td>2</td>\n",
       "      <td>2</td>\n",
       "      <td>2018-09-08</td>\n",
       "      <td>25860000</td>\n",
       "      <td>97</td>\n",
       "      <td>2018-09-08T06:33:30.000</td>\n",
       "      <td>0</td>\n",
       "      <td>19445045219</td>\n",
       "      <td>0</td>\n",
       "      <td>416</td>\n",
       "      <td>15</td>\n",
       "      <td>0</td>\n",
       "      <td>9</td>\n",
       "      <td>13</td>\n",
       "      <td>2018-09-07T23:22:30.000</td>\n",
       "      <td>431</td>\n",
       "      <td>classic</td>\n",
       "    </tr>\n",
       "  </tbody>\n",
       "</table>\n",
       "</div>"
      ],
      "text/plain": [
       "   asleep_cnt  asleep_min  awake_cnt  awake_min dateOfSleep  duration  \\\n",
       "0           0         380          0          0  2018-09-09  24480000   \n",
       "1           0         416          2          2  2018-09-08  25860000   \n",
       "\n",
       "   efficiency                  endTime  infoCode        logID  \\\n",
       "0          93  2018-09-09T06:42:00.000         0  19454971019   \n",
       "1          97  2018-09-08T06:33:30.000         0  19445045219   \n",
       "\n",
       "   minutesAfterWakeup  minutesAsleep  minutesAwake  minutesToFallAsleep  \\\n",
       "0                   0            380            28                    0   \n",
       "1                   0            416            15                    0   \n",
       "\n",
       "   restless_cnt  restless_min                startTime  timeInBed     type  \n",
       "0            17            28  2018-09-08T23:53:30.000        408  classic  \n",
       "1             9            13  2018-09-07T23:22:30.000        431  classic  "
      ]
     },
     "execution_count": 7,
     "metadata": {},
     "output_type": "execute_result"
    }
   ],
   "source": [
    "df.head(2)"
   ]
  },
  {
   "cell_type": "code",
   "execution_count": 8,
   "metadata": {},
   "outputs": [],
   "source": [
    "features = ['dateOfSleep','logID','endTime','startTime','timeInBed']"
   ]
  },
  {
   "cell_type": "code",
   "execution_count": 9,
   "metadata": {},
   "outputs": [],
   "source": [
    "df = df[features]"
   ]
  },
  {
   "cell_type": "code",
   "execution_count": 10,
   "metadata": {},
   "outputs": [],
   "source": [
    "test = pd.DataFrame(pd.pivot_table(ds,index=['logID','level'])['seconds'])"
   ]
  },
  {
   "cell_type": "code",
   "execution_count": 11,
   "metadata": {},
   "outputs": [
    {
     "name": "stdout",
     "output_type": "stream",
     "text": [
      "Enabling notebook extension jupyter-js-widgets/extension...\r\n",
      "      - Validating: \u001b[32mOK\u001b[0m\r\n"
     ]
    }
   ],
   "source": [
    "!jupyter nbextension enable --py widgetsnbextension"
   ]
  },
  {
   "cell_type": "code",
   "execution_count": 12,
   "metadata": {},
   "outputs": [
    {
     "data": {
      "text/html": [
       "<script>requirejs.config({paths: { 'plotly': ['https://cdn.plot.ly/plotly-latest.min']},});if(!window.Plotly) {{require(['plotly'],function(plotly) {window.Plotly=plotly;});}}</script>"
      ],
      "text/vnd.plotly.v1+html": [
       "<script>requirejs.config({paths: { 'plotly': ['https://cdn.plot.ly/plotly-latest.min']},});if(!window.Plotly) {{require(['plotly'],function(plotly) {window.Plotly=plotly;});}}</script>"
      ]
     },
     "metadata": {},
     "output_type": "display_data"
    },
    {
     "data": {
      "text/html": [
       "<script>requirejs.config({paths: { 'plotly': ['https://cdn.plot.ly/plotly-latest.min']},});if(!window.Plotly) {{require(['plotly'],function(plotly) {window.Plotly=plotly;});}}</script>"
      ],
      "text/vnd.plotly.v1+html": [
       "<script>requirejs.config({paths: { 'plotly': ['https://cdn.plot.ly/plotly-latest.min']},});if(!window.Plotly) {{require(['plotly'],function(plotly) {window.Plotly=plotly;});}}</script>"
      ]
     },
     "metadata": {},
     "output_type": "display_data"
    }
   ],
   "source": [
    "import ipywidgets as widgets\n",
    "from ipywidgets import interact, interact_manual\n",
    "# Standard plotly imports\n",
    "import plotly.plotly as py\n",
    "import plotly.graph_objs as go\n",
    "from plotly.offline import iplot, init_notebook_mode\n",
    "# Using plotly + cufflinks in offline mode\n",
    "import cufflinks\n",
    "cufflinks.go_offline(connected=True)\n",
    "init_notebook_mode(connected=True)"
   ]
  },
  {
   "cell_type": "code",
   "execution_count": null,
   "metadata": {},
   "outputs": [],
   "source": []
  }
 ],
 "metadata": {
  "kernelspec": {
   "display_name": "Python 3",
   "language": "python",
   "name": "python3"
  },
  "language_info": {
   "codemirror_mode": {
    "name": "ipython",
    "version": 3
   },
   "file_extension": ".py",
   "mimetype": "text/x-python",
   "name": "python",
   "nbconvert_exporter": "python",
   "pygments_lexer": "ipython3",
   "version": "3.6.4"
  }
 },
 "nbformat": 4,
 "nbformat_minor": 2
}
