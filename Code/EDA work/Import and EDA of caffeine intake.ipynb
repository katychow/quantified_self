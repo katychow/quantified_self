{
 "cells": [
  {
   "cell_type": "markdown",
   "metadata": {},
   "source": [
    "- taking max of caffeine per type of coffee due to not knowing differences\n",
    "- From [mayo clinic](https://www.mayoclinic.org/healthy-lifestyle/nutrition-and-healthy-eating/in-depth/caffeine/art-20049372) article/[the spruce](https://www.thespruceeats.com/caffeine-in-coffee-tea-cola-765276)\n",
    "- looking at [matcha](https://www.breakawaymatcha.com/journal/5-reasons-to-drink-matcha-instead-of-coffee/) intake which has a different type of caffeine\n",
    "- caffeine not accounted for in dark chocolate can also be a factor\n",
    "\n",
    "\n",
    "|Drink|oz of liquid |Caffeine (in mg)|\n",
    "|---|---|---|\n",
    "|Coffee|8|165|\n",
    "|Espresso|1|64|\n",
    "|Decaf Espresso|1|0|\n",
    "|Doppio|2|150|\n",
    "|Decaf Doppio|2|16|\n",
    "|Nespresso Espresso|-|65|\n",
    "|Matcha|8|25|\n",
    "|Green Tea|8|25|\n",
    "|Hot Chocolate|8|70|\n",
    "|Carmelato|8|126|\n"
   ]
  },
  {
   "cell_type": "code",
   "execution_count": 1,
   "metadata": {},
   "outputs": [],
   "source": [
    "import pandas as pd"
   ]
  },
  {
   "cell_type": "code",
   "execution_count": 2,
   "metadata": {},
   "outputs": [],
   "source": [
    "coffee_wine = pd.read_csv('../../Data/Caffeine Data/KatyCaffeineIntake_Wine.csv')"
   ]
  },
  {
   "cell_type": "code",
   "execution_count": 3,
   "metadata": {},
   "outputs": [
    {
     "data": {
      "text/plain": [
       "Date            object\n",
       "Time            object\n",
       "Type            object\n",
       "Volume (oz)    float64\n",
       "Kind            object\n",
       "Prep Type       object\n",
       "Notes           object\n",
       "dtype: object"
      ]
     },
     "execution_count": 3,
     "metadata": {},
     "output_type": "execute_result"
    }
   ],
   "source": [
    "coffee_wine.dtypes\n"
   ]
  },
  {
   "cell_type": "code",
   "execution_count": 4,
   "metadata": {
    "scrolled": true
   },
   "outputs": [
    {
     "data": {
      "text/html": [
       "<div>\n",
       "<style scoped>\n",
       "    .dataframe tbody tr th:only-of-type {\n",
       "        vertical-align: middle;\n",
       "    }\n",
       "\n",
       "    .dataframe tbody tr th {\n",
       "        vertical-align: top;\n",
       "    }\n",
       "\n",
       "    .dataframe thead th {\n",
       "        text-align: right;\n",
       "    }\n",
       "</style>\n",
       "<table border=\"1\" class=\"dataframe\">\n",
       "  <thead>\n",
       "    <tr style=\"text-align: right;\">\n",
       "      <th></th>\n",
       "      <th>Date</th>\n",
       "      <th>Time</th>\n",
       "      <th>Type</th>\n",
       "      <th>Volume (oz)</th>\n",
       "      <th>Kind</th>\n",
       "      <th>Prep Type</th>\n",
       "      <th>Notes</th>\n",
       "    </tr>\n",
       "  </thead>\n",
       "  <tbody>\n",
       "    <tr>\n",
       "      <th>0</th>\n",
       "      <td>1/7/19</td>\n",
       "      <td>9:00 AM</td>\n",
       "      <td>Coffee</td>\n",
       "      <td>12.0</td>\n",
       "      <td>Critical Mass</td>\n",
       "      <td>French Press</td>\n",
       "      <td>NaN</td>\n",
       "    </tr>\n",
       "    <tr>\n",
       "      <th>1</th>\n",
       "      <td>1/7/19</td>\n",
       "      <td>4:00 PM</td>\n",
       "      <td>Tea</td>\n",
       "      <td>12.0</td>\n",
       "      <td>TJs matcha</td>\n",
       "      <td>Instant</td>\n",
       "      <td>NaN</td>\n",
       "    </tr>\n",
       "    <tr>\n",
       "      <th>2</th>\n",
       "      <td>1/8/19</td>\n",
       "      <td>8:30 AM</td>\n",
       "      <td>Coffee</td>\n",
       "      <td>16.0</td>\n",
       "      <td>Critical Mass</td>\n",
       "      <td>French Press</td>\n",
       "      <td>NaN</td>\n",
       "    </tr>\n",
       "    <tr>\n",
       "      <th>3</th>\n",
       "      <td>1/8/19</td>\n",
       "      <td>4:15 PM</td>\n",
       "      <td>Coffee</td>\n",
       "      <td>2.0</td>\n",
       "      <td>Dancing Goats Decaf</td>\n",
       "      <td>Espresso</td>\n",
       "      <td>NaN</td>\n",
       "    </tr>\n",
       "    <tr>\n",
       "      <th>4</th>\n",
       "      <td>1/9/19</td>\n",
       "      <td>8:50 AM</td>\n",
       "      <td>Coffee</td>\n",
       "      <td>12.0</td>\n",
       "      <td>Critical Mass</td>\n",
       "      <td>French Press</td>\n",
       "      <td>NaN</td>\n",
       "    </tr>\n",
       "  </tbody>\n",
       "</table>\n",
       "</div>"
      ],
      "text/plain": [
       "     Date     Time    Type  Volume (oz)                 Kind     Prep Type  \\\n",
       "0  1/7/19  9:00 AM  Coffee         12.0        Critical Mass  French Press   \n",
       "1  1/7/19  4:00 PM     Tea         12.0           TJs matcha       Instant   \n",
       "2  1/8/19  8:30 AM  Coffee         16.0        Critical Mass  French Press   \n",
       "3  1/8/19  4:15 PM  Coffee          2.0  Dancing Goats Decaf      Espresso   \n",
       "4  1/9/19  8:50 AM  Coffee         12.0        Critical Mass  French Press   \n",
       "\n",
       "  Notes  \n",
       "0   NaN  \n",
       "1   NaN  \n",
       "2   NaN  \n",
       "3   NaN  \n",
       "4   NaN  "
      ]
     },
     "execution_count": 4,
     "metadata": {},
     "output_type": "execute_result"
    }
   ],
   "source": [
    "coffee_wine.head()"
   ]
  },
  {
   "cell_type": "code",
   "execution_count": 5,
   "metadata": {},
   "outputs": [],
   "source": [
    "coffee_wine['Notes'].fillna('', inplace = True)\n",
    "coffee_wine['Prep Type'].fillna('None', inplace = True)"
   ]
  },
  {
   "cell_type": "code",
   "execution_count": 6,
   "metadata": {},
   "outputs": [],
   "source": [
    "def is_decaf(string):\n",
    "    new_str = string.split()\n",
    "    counter = 0\n",
    "    for i in new_str:\n",
    "        if i.lower() == 'decaf':\n",
    "            counter += 1\n",
    "    return counter"
   ]
  },
  {
   "cell_type": "code",
   "execution_count": 7,
   "metadata": {
    "scrolled": true
   },
   "outputs": [
    {
     "data": {
      "text/plain": [
       "2"
      ]
     },
     "execution_count": 7,
     "metadata": {},
     "output_type": "execute_result"
    }
   ],
   "source": [
    "is_decaf('Americano Decaf Decaf')"
   ]
  },
  {
   "cell_type": "code",
   "execution_count": 8,
   "metadata": {},
   "outputs": [],
   "source": [
    "coffee_wine['isDecaf'] = coffee_wine['Kind'].apply(is_decaf)"
   ]
  },
  {
   "cell_type": "code",
   "execution_count": 9,
   "metadata": {},
   "outputs": [],
   "source": [
    "remap_types = {\n",
    "    'French Press':'Coffee',\n",
    "    'Instant':'Matcha',\n",
    "    'Espresso':'Espresso',\n",
    "    'Nespresso':'Nespresso',\n",
    "    'Drip':'Coffee',\n",
    "    'Hot Chocolate':'Cocoa',\n",
    "    'Carmelato':'Latte',\n",
    "    'Starbucks':'Espresso',\n",
    "    'None':'None'\n",
    "}\n"
   ]
  },
  {
   "cell_type": "code",
   "execution_count": 10,
   "metadata": {},
   "outputs": [],
   "source": [
    "coffee_wine['Prep Type']=coffee_wine['Prep Type'].map(remap_types)"
   ]
  },
  {
   "cell_type": "code",
   "execution_count": 11,
   "metadata": {},
   "outputs": [
    {
     "data": {
      "text/html": [
       "<div>\n",
       "<style scoped>\n",
       "    .dataframe tbody tr th:only-of-type {\n",
       "        vertical-align: middle;\n",
       "    }\n",
       "\n",
       "    .dataframe tbody tr th {\n",
       "        vertical-align: top;\n",
       "    }\n",
       "\n",
       "    .dataframe thead th {\n",
       "        text-align: right;\n",
       "    }\n",
       "</style>\n",
       "<table border=\"1\" class=\"dataframe\">\n",
       "  <thead>\n",
       "    <tr style=\"text-align: right;\">\n",
       "      <th></th>\n",
       "      <th>Date</th>\n",
       "      <th>Time</th>\n",
       "      <th>Type</th>\n",
       "      <th>Volume (oz)</th>\n",
       "      <th>Kind</th>\n",
       "      <th>Prep Type</th>\n",
       "      <th>Notes</th>\n",
       "      <th>isDecaf</th>\n",
       "    </tr>\n",
       "  </thead>\n",
       "  <tbody>\n",
       "    <tr>\n",
       "      <th>0</th>\n",
       "      <td>1/7/19</td>\n",
       "      <td>9:00 AM</td>\n",
       "      <td>Coffee</td>\n",
       "      <td>12.0</td>\n",
       "      <td>Critical Mass</td>\n",
       "      <td>Coffee</td>\n",
       "      <td></td>\n",
       "      <td>0</td>\n",
       "    </tr>\n",
       "    <tr>\n",
       "      <th>1</th>\n",
       "      <td>1/7/19</td>\n",
       "      <td>4:00 PM</td>\n",
       "      <td>Tea</td>\n",
       "      <td>12.0</td>\n",
       "      <td>TJs matcha</td>\n",
       "      <td>Matcha</td>\n",
       "      <td></td>\n",
       "      <td>0</td>\n",
       "    </tr>\n",
       "    <tr>\n",
       "      <th>2</th>\n",
       "      <td>1/8/19</td>\n",
       "      <td>8:30 AM</td>\n",
       "      <td>Coffee</td>\n",
       "      <td>16.0</td>\n",
       "      <td>Critical Mass</td>\n",
       "      <td>Coffee</td>\n",
       "      <td></td>\n",
       "      <td>0</td>\n",
       "    </tr>\n",
       "    <tr>\n",
       "      <th>3</th>\n",
       "      <td>1/8/19</td>\n",
       "      <td>4:15 PM</td>\n",
       "      <td>Coffee</td>\n",
       "      <td>2.0</td>\n",
       "      <td>Dancing Goats Decaf</td>\n",
       "      <td>Espresso</td>\n",
       "      <td></td>\n",
       "      <td>1</td>\n",
       "    </tr>\n",
       "    <tr>\n",
       "      <th>4</th>\n",
       "      <td>1/9/19</td>\n",
       "      <td>8:50 AM</td>\n",
       "      <td>Coffee</td>\n",
       "      <td>12.0</td>\n",
       "      <td>Critical Mass</td>\n",
       "      <td>Coffee</td>\n",
       "      <td></td>\n",
       "      <td>0</td>\n",
       "    </tr>\n",
       "  </tbody>\n",
       "</table>\n",
       "</div>"
      ],
      "text/plain": [
       "     Date     Time    Type  Volume (oz)                 Kind Prep Type Notes  \\\n",
       "0  1/7/19  9:00 AM  Coffee         12.0        Critical Mass    Coffee         \n",
       "1  1/7/19  4:00 PM     Tea         12.0           TJs matcha    Matcha         \n",
       "2  1/8/19  8:30 AM  Coffee         16.0        Critical Mass    Coffee         \n",
       "3  1/8/19  4:15 PM  Coffee          2.0  Dancing Goats Decaf  Espresso         \n",
       "4  1/9/19  8:50 AM  Coffee         12.0        Critical Mass    Coffee         \n",
       "\n",
       "   isDecaf  \n",
       "0        0  \n",
       "1        0  \n",
       "2        0  \n",
       "3        1  \n",
       "4        0  "
      ]
     },
     "execution_count": 11,
     "metadata": {},
     "output_type": "execute_result"
    }
   ],
   "source": [
    "coffee_wine.head()"
   ]
  },
  {
   "cell_type": "code",
   "execution_count": 12,
   "metadata": {},
   "outputs": [
    {
     "data": {
      "text/html": [
       "<div>\n",
       "<style scoped>\n",
       "    .dataframe tbody tr th:only-of-type {\n",
       "        vertical-align: middle;\n",
       "    }\n",
       "\n",
       "    .dataframe tbody tr th {\n",
       "        vertical-align: top;\n",
       "    }\n",
       "\n",
       "    .dataframe thead th {\n",
       "        text-align: right;\n",
       "    }\n",
       "</style>\n",
       "<table border=\"1\" class=\"dataframe\">\n",
       "  <thead>\n",
       "    <tr style=\"text-align: right;\">\n",
       "      <th></th>\n",
       "      <th></th>\n",
       "      <th>Date</th>\n",
       "      <th>Time</th>\n",
       "      <th>Type</th>\n",
       "      <th>Volume (oz)</th>\n",
       "      <th>Kind</th>\n",
       "      <th>Notes</th>\n",
       "    </tr>\n",
       "    <tr>\n",
       "      <th>Prep Type</th>\n",
       "      <th>isDecaf</th>\n",
       "      <th></th>\n",
       "      <th></th>\n",
       "      <th></th>\n",
       "      <th></th>\n",
       "      <th></th>\n",
       "      <th></th>\n",
       "    </tr>\n",
       "  </thead>\n",
       "  <tbody>\n",
       "    <tr>\n",
       "      <th>Cocoa</th>\n",
       "      <th>0</th>\n",
       "      <td>1</td>\n",
       "      <td>1</td>\n",
       "      <td>1</td>\n",
       "      <td>1</td>\n",
       "      <td>1</td>\n",
       "      <td>1</td>\n",
       "    </tr>\n",
       "    <tr>\n",
       "      <th>Coffee</th>\n",
       "      <th>0</th>\n",
       "      <td>27</td>\n",
       "      <td>27</td>\n",
       "      <td>27</td>\n",
       "      <td>27</td>\n",
       "      <td>27</td>\n",
       "      <td>27</td>\n",
       "    </tr>\n",
       "    <tr>\n",
       "      <th rowspan=\"2\" valign=\"top\">Espresso</th>\n",
       "      <th>0</th>\n",
       "      <td>2</td>\n",
       "      <td>2</td>\n",
       "      <td>2</td>\n",
       "      <td>2</td>\n",
       "      <td>2</td>\n",
       "      <td>2</td>\n",
       "    </tr>\n",
       "    <tr>\n",
       "      <th>1</th>\n",
       "      <td>4</td>\n",
       "      <td>4</td>\n",
       "      <td>4</td>\n",
       "      <td>4</td>\n",
       "      <td>4</td>\n",
       "      <td>4</td>\n",
       "    </tr>\n",
       "    <tr>\n",
       "      <th>Latte</th>\n",
       "      <th>0</th>\n",
       "      <td>1</td>\n",
       "      <td>1</td>\n",
       "      <td>1</td>\n",
       "      <td>1</td>\n",
       "      <td>1</td>\n",
       "      <td>1</td>\n",
       "    </tr>\n",
       "    <tr>\n",
       "      <th>Matcha</th>\n",
       "      <th>0</th>\n",
       "      <td>7</td>\n",
       "      <td>7</td>\n",
       "      <td>7</td>\n",
       "      <td>7</td>\n",
       "      <td>7</td>\n",
       "      <td>7</td>\n",
       "    </tr>\n",
       "    <tr>\n",
       "      <th rowspan=\"2\" valign=\"top\">Nespresso</th>\n",
       "      <th>0</th>\n",
       "      <td>2</td>\n",
       "      <td>2</td>\n",
       "      <td>2</td>\n",
       "      <td>2</td>\n",
       "      <td>2</td>\n",
       "      <td>2</td>\n",
       "    </tr>\n",
       "    <tr>\n",
       "      <th>1</th>\n",
       "      <td>5</td>\n",
       "      <td>5</td>\n",
       "      <td>5</td>\n",
       "      <td>5</td>\n",
       "      <td>5</td>\n",
       "      <td>5</td>\n",
       "    </tr>\n",
       "    <tr>\n",
       "      <th>None</th>\n",
       "      <th>0</th>\n",
       "      <td>4</td>\n",
       "      <td>4</td>\n",
       "      <td>4</td>\n",
       "      <td>4</td>\n",
       "      <td>4</td>\n",
       "      <td>4</td>\n",
       "    </tr>\n",
       "  </tbody>\n",
       "</table>\n",
       "</div>"
      ],
      "text/plain": [
       "                   Date  Time  Type  Volume (oz)  Kind  Notes\n",
       "Prep Type isDecaf                                            \n",
       "Cocoa     0           1     1     1            1     1      1\n",
       "Coffee    0          27    27    27           27    27     27\n",
       "Espresso  0           2     2     2            2     2      2\n",
       "          1           4     4     4            4     4      4\n",
       "Latte     0           1     1     1            1     1      1\n",
       "Matcha    0           7     7     7            7     7      7\n",
       "Nespresso 0           2     2     2            2     2      2\n",
       "          1           5     5     5            5     5      5\n",
       "None      0           4     4     4            4     4      4"
      ]
     },
     "execution_count": 12,
     "metadata": {},
     "output_type": "execute_result"
    }
   ],
   "source": [
    "coffee_wine.groupby(by = ['Prep Type','isDecaf']).count()"
   ]
  },
  {
   "cell_type": "markdown",
   "metadata": {},
   "source": [
    "|Drink|oz of liquid |Caffeine (in mg)|\n",
    "|---|---|---|\n",
    "|Coffee|8|165|\n",
    "|Espresso|1|64|\n",
    "|Decaf Espresso|1|0|\n",
    "|Doppio|2|150|\n",
    "|Decaf Doppio|2|16|\n",
    "|Nespresso Espresso|-|65|\n",
    "|Matcha|8|25|\n",
    "|Green Tea|8|25|\n",
    "|Hot Chocolate|8|70|\n",
    "|Carmelato|8|126|"
   ]
  },
  {
   "cell_type": "code",
   "execution_count": 13,
   "metadata": {},
   "outputs": [],
   "source": [
    "def transform_mg(df,vol,a,b):\n",
    "    if df[a] == 'Espresso' and df[b] == 1:\n",
    "        return df[vol]/2 * 16\n",
    "    elif df[a] == 'Nespresso' and df[b] ==1:\n",
    "        return df[vol]/2 * 10\n",
    "    elif df[a] == 'Coffee' and df[b] == 0:\n",
    "        return df[vol]/8 * 165\n",
    "    elif df[a] == 'Espresso' and df[b] == 0:\n",
    "        return df[vol]/2 * 150\n",
    "    elif df[a] == 'Cocoa' and df[b] == 0:\n",
    "        return df[vol]/8 * 70\n",
    "    elif df[a] == 'Latte' and df[b] == 0:\n",
    "        return df[vol]/8 * 126\n",
    "    elif df[a] == 'Matcha' and df[b] == 0:\n",
    "        return df[vol]/8 * 40\n",
    "    elif df[a] == 'Nespresso' and df[b] == 0:\n",
    "        return df[vol]/2 * 65\n",
    "    else:\n",
    "        return 0"
   ]
  },
  {
   "cell_type": "code",
   "execution_count": 14,
   "metadata": {},
   "outputs": [
    {
     "data": {
      "text/plain": [
       "Index(['Date', 'Time', 'Type', 'Volume (oz)', 'Kind', 'Prep Type', 'Notes',\n",
       "       'isDecaf'],\n",
       "      dtype='object')"
      ]
     },
     "execution_count": 14,
     "metadata": {},
     "output_type": "execute_result"
    }
   ],
   "source": [
    "coffee_wine.columns"
   ]
  },
  {
   "cell_type": "code",
   "execution_count": 15,
   "metadata": {},
   "outputs": [],
   "source": [
    "mapped_caffeine_mgs= []\n",
    "for index, row in coffee_wine.iterrows():\n",
    "    mapped_mgs = {}\n",
    "    mapped_mgs['caffeine_mgs'] = transform_mg(row,'Volume (oz)','Prep Type','isDecaf')\n",
    "    mapped_caffeine_mgs.append(mapped_mgs)"
   ]
  },
  {
   "cell_type": "code",
   "execution_count": 16,
   "metadata": {},
   "outputs": [],
   "source": [
    "mgs = pd.DataFrame(mapped_caffeine_mgs)"
   ]
  },
  {
   "cell_type": "code",
   "execution_count": 17,
   "metadata": {},
   "outputs": [],
   "source": [
    "merged_coffee_wine = pd.merge(coffee_wine,mgs, on = coffee_wine.index)"
   ]
  },
  {
   "cell_type": "code",
   "execution_count": 18,
   "metadata": {},
   "outputs": [
    {
     "data": {
      "text/plain": [
       "Index(['key_0', 'Date', 'Time', 'Type', 'Volume (oz)', 'Kind', 'Prep Type',\n",
       "       'Notes', 'isDecaf', 'caffeine_mgs'],\n",
       "      dtype='object')"
      ]
     },
     "execution_count": 18,
     "metadata": {},
     "output_type": "execute_result"
    }
   ],
   "source": [
    "merged_coffee_wine.columns"
   ]
  },
  {
   "cell_type": "code",
   "execution_count": 19,
   "metadata": {
    "scrolled": true
   },
   "outputs": [],
   "source": [
    "merged_coffee_wine.drop(columns = ['key_0'],inplace = True)"
   ]
  },
  {
   "cell_type": "code",
   "execution_count": 20,
   "metadata": {},
   "outputs": [
    {
     "data": {
      "text/html": [
       "<div>\n",
       "<style scoped>\n",
       "    .dataframe tbody tr th:only-of-type {\n",
       "        vertical-align: middle;\n",
       "    }\n",
       "\n",
       "    .dataframe tbody tr th {\n",
       "        vertical-align: top;\n",
       "    }\n",
       "\n",
       "    .dataframe thead th {\n",
       "        text-align: right;\n",
       "    }\n",
       "</style>\n",
       "<table border=\"1\" class=\"dataframe\">\n",
       "  <thead>\n",
       "    <tr style=\"text-align: right;\">\n",
       "      <th></th>\n",
       "      <th>Date</th>\n",
       "      <th>Time</th>\n",
       "      <th>Type</th>\n",
       "      <th>Volume (oz)</th>\n",
       "      <th>Kind</th>\n",
       "      <th>Prep Type</th>\n",
       "      <th>Notes</th>\n",
       "      <th>isDecaf</th>\n",
       "      <th>caffeine_mgs</th>\n",
       "    </tr>\n",
       "  </thead>\n",
       "  <tbody>\n",
       "    <tr>\n",
       "      <th>0</th>\n",
       "      <td>1/7/19</td>\n",
       "      <td>9:00 AM</td>\n",
       "      <td>Coffee</td>\n",
       "      <td>12.0</td>\n",
       "      <td>Critical Mass</td>\n",
       "      <td>Coffee</td>\n",
       "      <td></td>\n",
       "      <td>0</td>\n",
       "      <td>247.5</td>\n",
       "    </tr>\n",
       "    <tr>\n",
       "      <th>1</th>\n",
       "      <td>1/7/19</td>\n",
       "      <td>4:00 PM</td>\n",
       "      <td>Tea</td>\n",
       "      <td>12.0</td>\n",
       "      <td>TJs matcha</td>\n",
       "      <td>Matcha</td>\n",
       "      <td></td>\n",
       "      <td>0</td>\n",
       "      <td>60.0</td>\n",
       "    </tr>\n",
       "    <tr>\n",
       "      <th>2</th>\n",
       "      <td>1/8/19</td>\n",
       "      <td>8:30 AM</td>\n",
       "      <td>Coffee</td>\n",
       "      <td>16.0</td>\n",
       "      <td>Critical Mass</td>\n",
       "      <td>Coffee</td>\n",
       "      <td></td>\n",
       "      <td>0</td>\n",
       "      <td>330.0</td>\n",
       "    </tr>\n",
       "    <tr>\n",
       "      <th>3</th>\n",
       "      <td>1/8/19</td>\n",
       "      <td>4:15 PM</td>\n",
       "      <td>Coffee</td>\n",
       "      <td>2.0</td>\n",
       "      <td>Dancing Goats Decaf</td>\n",
       "      <td>Espresso</td>\n",
       "      <td></td>\n",
       "      <td>1</td>\n",
       "      <td>16.0</td>\n",
       "    </tr>\n",
       "    <tr>\n",
       "      <th>4</th>\n",
       "      <td>1/9/19</td>\n",
       "      <td>8:50 AM</td>\n",
       "      <td>Coffee</td>\n",
       "      <td>12.0</td>\n",
       "      <td>Critical Mass</td>\n",
       "      <td>Coffee</td>\n",
       "      <td></td>\n",
       "      <td>0</td>\n",
       "      <td>247.5</td>\n",
       "    </tr>\n",
       "  </tbody>\n",
       "</table>\n",
       "</div>"
      ],
      "text/plain": [
       "     Date     Time    Type  Volume (oz)                 Kind Prep Type Notes  \\\n",
       "0  1/7/19  9:00 AM  Coffee         12.0        Critical Mass    Coffee         \n",
       "1  1/7/19  4:00 PM     Tea         12.0           TJs matcha    Matcha         \n",
       "2  1/8/19  8:30 AM  Coffee         16.0        Critical Mass    Coffee         \n",
       "3  1/8/19  4:15 PM  Coffee          2.0  Dancing Goats Decaf  Espresso         \n",
       "4  1/9/19  8:50 AM  Coffee         12.0        Critical Mass    Coffee         \n",
       "\n",
       "   isDecaf  caffeine_mgs  \n",
       "0        0         247.5  \n",
       "1        0          60.0  \n",
       "2        0         330.0  \n",
       "3        1          16.0  \n",
       "4        0         247.5  "
      ]
     },
     "execution_count": 20,
     "metadata": {},
     "output_type": "execute_result"
    }
   ],
   "source": [
    "merged_coffee_wine.head()"
   ]
  },
  {
   "cell_type": "code",
   "execution_count": 24,
   "metadata": {},
   "outputs": [
    {
     "data": {
      "text/html": [
       "<div>\n",
       "<style scoped>\n",
       "    .dataframe tbody tr th:only-of-type {\n",
       "        vertical-align: middle;\n",
       "    }\n",
       "\n",
       "    .dataframe tbody tr th {\n",
       "        vertical-align: top;\n",
       "    }\n",
       "\n",
       "    .dataframe thead th {\n",
       "        text-align: right;\n",
       "    }\n",
       "</style>\n",
       "<table border=\"1\" class=\"dataframe\">\n",
       "  <thead>\n",
       "    <tr style=\"text-align: right;\">\n",
       "      <th></th>\n",
       "      <th>count</th>\n",
       "      <th>mean</th>\n",
       "      <th>std</th>\n",
       "      <th>min</th>\n",
       "      <th>25%</th>\n",
       "      <th>50%</th>\n",
       "      <th>75%</th>\n",
       "      <th>max</th>\n",
       "    </tr>\n",
       "  </thead>\n",
       "  <tbody>\n",
       "    <tr>\n",
       "      <th>Volume (oz)</th>\n",
       "      <td>53.0</td>\n",
       "      <td>8.783019</td>\n",
       "      <td>4.868965</td>\n",
       "      <td>1.0</td>\n",
       "      <td>3.0</td>\n",
       "      <td>10.0</td>\n",
       "      <td>12.0</td>\n",
       "      <td>16.0</td>\n",
       "    </tr>\n",
       "    <tr>\n",
       "      <th>isDecaf</th>\n",
       "      <td>53.0</td>\n",
       "      <td>0.169811</td>\n",
       "      <td>0.379060</td>\n",
       "      <td>0.0</td>\n",
       "      <td>0.0</td>\n",
       "      <td>0.0</td>\n",
       "      <td>0.0</td>\n",
       "      <td>1.0</td>\n",
       "    </tr>\n",
       "    <tr>\n",
       "      <th>caffeine_mgs</th>\n",
       "      <td>53.0</td>\n",
       "      <td>147.320755</td>\n",
       "      <td>113.106181</td>\n",
       "      <td>0.0</td>\n",
       "      <td>40.0</td>\n",
       "      <td>165.0</td>\n",
       "      <td>247.5</td>\n",
       "      <td>330.0</td>\n",
       "    </tr>\n",
       "  </tbody>\n",
       "</table>\n",
       "</div>"
      ],
      "text/plain": [
       "              count        mean         std  min   25%    50%    75%    max\n",
       "Volume (oz)    53.0    8.783019    4.868965  1.0   3.0   10.0   12.0   16.0\n",
       "isDecaf        53.0    0.169811    0.379060  0.0   0.0    0.0    0.0    1.0\n",
       "caffeine_mgs   53.0  147.320755  113.106181  0.0  40.0  165.0  247.5  330.0"
      ]
     },
     "execution_count": 24,
     "metadata": {},
     "output_type": "execute_result"
    }
   ],
   "source": [
    "merged_coffee_wine.describe().T"
   ]
  },
  {
   "cell_type": "code",
   "execution_count": 26,
   "metadata": {},
   "outputs": [],
   "source": [
    "pd.DataFrame(merged_coffee_wine.groupby(by = 'Date')['Time'].count()).to_csv('count_drinks.csv')"
   ]
  },
  {
   "cell_type": "code",
   "execution_count": 27,
   "metadata": {},
   "outputs": [],
   "source": [
    "pd.DataFrame(merged_coffee_wine.groupby(by = 'Date')['caffeine_mgs'].sum()).to_csv('caffeine_mgs.csv')"
   ]
  },
  {
   "cell_type": "code",
   "execution_count": 28,
   "metadata": {},
   "outputs": [],
   "source": [
    "import matplotlib.pyplot as plt"
   ]
  },
  {
   "cell_type": "code",
   "execution_count": 29,
   "metadata": {},
   "outputs": [
    {
     "data": {
      "text/plain": [
       "Date             object\n",
       "Time             object\n",
       "Type             object\n",
       "Volume (oz)     float64\n",
       "Kind             object\n",
       "Prep Type        object\n",
       "Notes            object\n",
       "isDecaf           int64\n",
       "caffeine_mgs    float64\n",
       "dtype: object"
      ]
     },
     "execution_count": 29,
     "metadata": {},
     "output_type": "execute_result"
    }
   ],
   "source": [
    "merged_coffee_wine.dtypes"
   ]
  },
  {
   "cell_type": "code",
   "execution_count": 30,
   "metadata": {
    "scrolled": true
   },
   "outputs": [
    {
     "data": {
      "image/png": "[encoded data removed]",
      "text/plain": [
       "<Figure size 432x288 with 1 Axes>"
      ]
     },
     "metadata": {},
     "output_type": "display_data"
    }
   ],
   "source": [
    "plt.bar(merged_coffee_wine['Date'],merged_coffee_wine['caffeine_mgs'],color ='pink')\n",
    "plt.xticks(rotation=90)\n",
    "plt.xlabel('Dates')\n",
    "plt.ylabel('mg of Caffeine')\n",
    "plt.title('Distribution of Caffeine (mg) per Day');"
   ]
  },
  {
   "cell_type": "code",
   "execution_count": null,
   "metadata": {},
   "outputs": [],
   "source": []
  }
 ],
 "metadata": {
  "kernelspec": {
   "display_name": "Python 3",
   "language": "python",
   "name": "python3"
  },
  "language_info": {
   "codemirror_mode": {
    "name": "ipython",
    "version": 3
   },
   "file_extension": ".py",
   "mimetype": "text/x-python",
   "name": "python",
   "nbconvert_exporter": "python",
   "pygments_lexer": "ipython3",
   "version": "3.6.4"
  }
 },
 "nbformat": 4,
 "nbformat_minor": 2
}
