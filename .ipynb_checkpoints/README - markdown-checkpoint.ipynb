{
 "cells": [
  {
   "cell_type": "markdown",
   "metadata": {},
   "source": [
    "## Analyzing Sleep Data: a [Quantified Self](https://medium.com/quantified-self-dublin/quantified-self-health-wellness-now-into-f853e68c5d72) Study\n",
    "\n",
    "\n",
    "### Executive Summary\n",
    "---\n",
    "\n",
    "There are many motivations behind self-tracking, but with the rise of newer technologies coupled with recent trends in physical/mental improvement, it is natural to want to study yourself.  For me, this obsession started with trying to figure out if I had some gastrointestinal issues in 2017.  At first, I told myself perhaps it was my age since I am no longer in my early 20s.  As I researched further, I found the [Nourish Balance Thrive Podcast](http://www.nourishbalancethrive.com/podcasts/nourish-balance-thrive/).  ***Voila!*** My passion of self improvement through nutrition and sleep was ignited.  This podcast spoke to me because the host, Christopher Kelly, was a data scientist turned health pioneer.  I also worked in the field of data science and needed answers about my health.  In the past year, I have played around with my sleep but not intensely tracking it.  Since the beginning of my data science immersive with [General Assembly](https://generalassemb.ly/), I started tracking my sleep with a Fitbit.  With that said, the purpose of this analysis, is two fold.  I want to be able to see if a consistent week of good sleep will lead to more good sleep, and I would like to look at my sleep data not only on a daily view but track my sleep over a long period.  \n",
    "\n",
    "---\n",
    "\n",
    "### The Problem Statement: \n",
    "---\n",
    " - Does consistently good sleep lead to more good sleep?  \n",
    " - What other factors can impact sleep?\n",
    " - What should we explore next?\n",
    "\n",
    "---\n",
    "\n",
    "### The Data:\n",
    "---\n",
    "The data is a downloadable zip file provided by Fitbit.  Fitbit also offers an API option, but due to time constraints, I chose to just download the zip file of all of my data.  The data came in a JSON format, and I used a python library to parse the data into two main datasets.  The first dataset that I also use for my model consists of each nights sleeping data.  The second dataset I created from the JSON files consisted of the times that I had different sleeping activity which can be linked back to the first dataset (the header dataset) via the logID.  Sleeping activity varies between minutes asleep, restless, and awake.  Below are two tables representing the data and its layouts.\n",
    "\n",
    "1 table here\n",
    "antoher table here\n",
    "\n",
    "---\n",
    "### The Model\n",
    "\n",
    "---\n",
    "\n",
    "### Results & Next Steps\n",
    "---\n",
    "\n",
    "### The Files\n",
    "---\n",
    "The files are organized in 3 folders.  Each folder has a subset of folders that describe a different portion of the analysis.  Because this is a two part project each subfolder is related to a different aspect such as the dashboard creation/interactive tool, the data cleaning, or the modeling.  \n",
    "1. Code\n",
    "2. Data\n",
    "3. jupyterlab-dash"
   ]
  },
  {
   "cell_type": "code",
   "execution_count": null,
   "metadata": {},
   "outputs": [],
   "source": []
  }
 ],
 "metadata": {
  "kernelspec": {
   "display_name": "Python 3",
   "language": "python",
   "name": "python3"
  },
  "language_info": {
   "codemirror_mode": {
    "name": "ipython",
    "version": 3
   },
   "file_extension": ".py",
   "mimetype": "text/x-python",
   "name": "python",
   "nbconvert_exporter": "python",
   "pygments_lexer": "ipython3",
   "version": "3.6.4"
  }
 },
 "nbformat": 4,
 "nbformat_minor": 2
}
